{
  "nbformat": 4,
  "nbformat_minor": 0,
  "metadata": {
    "colab": {
      "provenance": [],
      "authorship_tag": "ABX9TyO5p3I5+jyLTm9cuF9C47cM",
      "include_colab_link": true
    },
    "kernelspec": {
      "name": "python3",
      "display_name": "Python 3"
    },
    "language_info": {
      "name": "python"
    }
  },
  "cells": [
    {
      "cell_type": "markdown",
      "metadata": {
        "id": "view-in-github",
        "colab_type": "text"
      },
      "source": [
        "<a href=\"https://colab.research.google.com/github/Gulshan-koondhar/python-projects/blob/main/number_guessing_game_(computer).ipynb\" target=\"_parent\"><img src=\"https://colab.research.google.com/assets/colab-badge.svg\" alt=\"Open In Colab\"/></a>"
      ]
    },
    {
      "cell_type": "code",
      "execution_count": 1,
      "metadata": {
        "colab": {
          "base_uri": "https://localhost:8080/"
        },
        "id": "zylCxwAdMXAU",
        "outputId": "966d8499-763b-455d-a101-ae0323ac5333"
      },
      "outputs": [
        {
          "output_type": "stream",
          "name": "stdout",
          "text": [
            "Guess a number between 1 and 10: 5\n",
            "Too high!\n",
            "Guess a number between 1 and 10: 2\n",
            "Too high!\n",
            "Guess a number between 1 and 10: 1\n",
            "You got it!\n"
          ]
        }
      ],
      "source": [
        "import random\n",
        "\n",
        "def number_guess():\n",
        "  random_num = random.randint(1, 10)\n",
        "  guess = 0\n",
        "  while guess != random_num:\n",
        "    guess = int(input(\"Guess a number between 1 and 10: \"))\n",
        "    if guess < random_num:\n",
        "      print(\"Too low!\")\n",
        "    elif guess > random_num:\n",
        "      print(\"Too high!\")\n",
        "    else:\n",
        "      print(\"You got it!\")\n",
        "\n",
        "number_guess()"
      ]
    }
  ]
}