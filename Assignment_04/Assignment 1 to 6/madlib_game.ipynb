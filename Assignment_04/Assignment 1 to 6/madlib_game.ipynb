{
  "nbformat": 4,
  "nbformat_minor": 0,
  "metadata": {
    "colab": {
      "provenance": []
    },
    "kernelspec": {
      "name": "python3",
      "display_name": "Python 3"
    },
    "language_info": {
      "name": "python"
    }
  },
  "cells": [
    {
      "cell_type": "code",
      "execution_count": 5,
      "metadata": {
        "colab": {
          "base_uri": "https://localhost:8080/"
        },
        "id": "DDlV3tWGI56f",
        "outputId": "c79bad26-0c02-4f40-f7db-b70fbd215df7"
      },
      "outputs": [
        {
          "output_type": "stream",
          "name": "stdout",
          "text": [
            "Enter a plural noun: warrior\n",
            "Enter a noun1: riddle\n",
            "Enter a noun2: knight\n",
            "Enter a verb in past tense: stepped\n",
            "Enter a creature: dragon\n",
            "\n",
            "\n",
            "Only the bravest warrior can solve my riddle! The dragon said. With a deep breath, the knight stepped forward, ready for the challenge\n"
          ]
        }
      ],
      "source": [
        "plural_noun = input(\"Enter a plural noun: \")\n",
        "noun1 = input(\"Enter a noun1: \")\n",
        "noun2 = input(\"Enter a noun2: \")\n",
        "past_tense_verb = input(\"Enter a verb in past tense: \")\n",
        "creature = input(\"Enter a creature: \")\n",
        "print(\"\\n\")\n",
        "print(f\"Only the bravest {plural_noun} can solve my {noun1}! The {creature} said. With a deep breath, the {noun2} {past_tense_verb} forward, ready for the challenge\")"
      ]
    }
  ]
}