{
  "nbformat": 4,
  "nbformat_minor": 0,
  "metadata": {
    "colab": {
      "provenance": []
    },
    "kernelspec": {
      "name": "python3",
      "display_name": "Python 3"
    },
    "language_info": {
      "name": "python"
    }
  },
  "cells": [
    {
      "cell_type": "code",
      "source": [
        "# prompt: create a password generator\n",
        "\n",
        "import random\n",
        "import string\n",
        "\n",
        "def generate_password(length=12, include_digits=True, include_symbols=True):\n",
        "    characters = string.ascii_letters\n",
        "    if include_digits:\n",
        "        characters += string.digits\n",
        "    if include_symbols:\n",
        "        characters += string.punctuation\n",
        "\n",
        "    password = ''.join(random.choice(characters) for i in range(length))\n",
        "    return password\n",
        "# Example usage\n",
        "password = generate_password()\n",
        "print(password)\n",
        "password = generate_password(length=16, include_symbols=False)\n",
        "password\n"
      ],
      "metadata": {
        "id": "FaE3MGawqlXG"
      },
      "execution_count": null,
      "outputs": []
    },
    {
      "cell_type": "code",
      "execution_count": 4,
      "metadata": {
        "colab": {
          "base_uri": "https://localhost:8080/"
        },
        "id": "GNiVcj_aqFnu",
        "outputId": "c79eba90-54f2-4680-a3ea-ec0ef309e091"
      },
      "outputs": [
        {
          "output_type": "stream",
          "name": "stdout",
          "text": [
            "Enter the length of the password: 8\n",
            "Include digits? (y/n): y\n",
            "Include symbols? (y/n): y\n",
            "'FPx%ydy\n"
          ]
        }
      ],
      "source": [
        "#Password Generator\n",
        "\n",
        "import random\n",
        "import string\n",
        "\n",
        "def generate_password(length,digit,symbol):\n",
        "  characters = string.ascii_letters\n",
        "  if digit == \"y\":\n",
        "    characters += string.digits\n",
        "  if symbol == \"y\":\n",
        "    characters += string.punctuation\n",
        "\n",
        "  password = ''.join(random.choice(characters) for i in range(length))\n",
        "  return password\n",
        "\n",
        "def main():\n",
        "  length = int(input(\"Enter the length of the password: \"))\n",
        "  digit = input(\"Include digits? (y/n): \")\n",
        "  symbol = input(\"Include symbols? (y/n): \")\n",
        "  password = generate_password(length, digit, symbol)\n",
        "  print(password)\n",
        "\n",
        "if __name__ == \"__main__\":\n",
        "  main()"
      ]
    }
  ]
}