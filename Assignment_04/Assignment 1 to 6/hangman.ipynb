{
  "nbformat": 4,
  "nbformat_minor": 0,
  "metadata": {
    "colab": {
      "provenance": []
    },
    "kernelspec": {
      "name": "python3",
      "display_name": "Python 3"
    },
    "language_info": {
      "name": "python"
    }
  },
  "cells": [
    {
      "cell_type": "code",
      "source": [
        "import random\n",
        "import string\n",
        "\n",
        "#Hangman Game\n",
        "words = ['apple', 'banana', 'cherry', 'date', 'elderberry', 'fig', 'grape', 'honeydew', 'kiwi', 'lemon', 'mango']\n",
        "\n",
        "\n",
        "def get_words(words):\n",
        "  word = random.choice(words)\n",
        "  while '-' in word or ' ' in word:\n",
        "    word = random.choice(words)\n",
        "  return word.upper()\n",
        "\n",
        "def hangman():\n",
        "  word = get_words(words)\n",
        "  word_letters = set(word)\n",
        "  alphabet = set(string.ascii_uppercase)\n",
        "  used_letters = set()\n",
        "  lives = 6\n",
        "  while len(word_letters) > 0 and lives > 0:\n",
        "    print('You have', lives, 'lives left and you have used these letters: ', ' '.join(used_letters))\n",
        "    word_list = [letter if letter in used_letters else '-' for letter in word]\n",
        "    print('Current word: ', ' '.join(word_list))\n",
        "\n",
        "    user_letter = input('Guess a letter: ').upper()\n",
        "    if user_letter in alphabet - used_letters:\n",
        "      used_letters.add(user_letter)\n",
        "      if user_letter in word_letters:\n",
        "        word_letters.remove(user_letter)\n",
        "      else:\n",
        "        lives = lives - 1\n",
        "        print('Letter is not in word.')\n",
        "    elif user_letter in used_letters:\n",
        "      print('You have already used that character. Please try again.')\n",
        "    else:\n",
        "      print('Invalid character. Please try again.')\n",
        "\n",
        "  if lives == 0:\n",
        "    print('You died, sorry. The word was', word)\n",
        "  else:\n",
        "    print('You guessed the word', word, '!!')\n",
        "\n",
        "def main():\n",
        "  hangman()\n",
        "\n",
        "if __name__ == '__main__':\n",
        "  main()"
      ],
      "metadata": {
        "colab": {
          "base_uri": "https://localhost:8080/"
        },
        "id": "_cRnHVC7niDM",
        "outputId": "c0425593-a33d-47ea-a420-56003237c733"
      },
      "execution_count": 1,
      "outputs": [
        {
          "output_type": "stream",
          "name": "stdout",
          "text": [
            "You have 6 lives left and you have used these letters:  \n",
            "Current word:  - - - -\n",
            "Guess a letter: h\n",
            "Letter is not in word.\n",
            "You have 5 lives left and you have used these letters:  H\n",
            "Current word:  - - - -\n",
            "Guess a letter: j\n",
            "Letter is not in word.\n",
            "You have 4 lives left and you have used these letters:  H J\n",
            "Current word:  - - - -\n",
            "Guess a letter: t\n",
            "Letter is not in word.\n",
            "You have 3 lives left and you have used these letters:  T H J\n",
            "Current word:  - - - -\n",
            "Guess a letter: i\n",
            "You have 3 lives left and you have used these letters:  T H I J\n",
            "Current word:  - I - I\n",
            "Guess a letter: w\n",
            "You have 3 lives left and you have used these letters:  I W J T H\n",
            "Current word:  - I W I\n",
            "Guess a letter: k\n",
            "You guessed the word KIWI !!\n"
          ]
        }
      ]
    }
  ]
}