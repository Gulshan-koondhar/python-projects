{
  "nbformat": 4,
  "nbformat_minor": 0,
  "metadata": {
    "colab": {
      "provenance": [],
      "authorship_tag": "ABX9TyN1+/doqMOHn13YX7Z8aTHi",
      "include_colab_link": true
    },
    "kernelspec": {
      "name": "python3",
      "display_name": "Python 3"
    },
    "language_info": {
      "name": "python"
    }
  },
  "cells": [
    {
      "cell_type": "markdown",
      "metadata": {
        "id": "view-in-github",
        "colab_type": "text"
      },
      "source": [
        "<a href=\"https://colab.research.google.com/github/Gulshan-koondhar/python-projects/blob/main/RockPaperScissor.ipynb\" target=\"_parent\"><img src=\"https://colab.research.google.com/assets/colab-badge.svg\" alt=\"Open In Colab\"/></a>"
      ]
    },
    {
      "source": [
        "import random\n",
        "\n",
        "def rps():\n",
        "  condition = True\n",
        "  while condition:\n",
        "    user = input(\"Enter Your Choice (r for Rock, s for Scissor and p for Paper)\")\n",
        "    computer = random.choice(['r', 's', 'p'])\n",
        "    print(f\"Computer Choose {computer}\")\n",
        "\n",
        "    if user == computer:\n",
        "      print(\"It is a Tie\")\n",
        "    elif user == \"r\" and computer == \"s\":\n",
        "      print(\"You Won\")\n",
        "    elif user == \"s\" and computer == \"p\":\n",
        "      print(\"You Won\")\n",
        "    elif user == \"p\" and computer == \"r\":\n",
        "      print(\"You Won\")\n",
        "    else:\n",
        "      print(\"You Lost\")\n",
        "\n",
        "    play_again = input(\"Do you want to play again? (y/n)\")\n",
        "    if play_again.lower() != \"y\":\n",
        "      condition = False\n",
        "      print(\"\\nThanks For Playing\")\n",
        "\n",
        "rps()"
      ],
      "cell_type": "code",
      "metadata": {
        "colab": {
          "base_uri": "https://localhost:8080/"
        },
        "id": "DS6gUzUcaHQp",
        "outputId": "fb1862d8-b274-4749-a6d3-5c0fe608a50b"
      },
      "execution_count": 20,
      "outputs": [
        {
          "output_type": "stream",
          "name": "stdout",
          "text": [
            "Enter Your Choice (r for Rock, s for Scissor and p for Paper)r\n",
            "Computer Choose s\n",
            "You Won\n",
            "Do you want to play again? (y/n)y\n",
            "Enter Your Choice (r for Rock, s for Scissor and p for Paper)s\n",
            "Computer Choose p\n",
            "You Won\n",
            "Do you want to play again? (y/n)y\n",
            "Enter Your Choice (r for Rock, s for Scissor and p for Paper)p\n",
            "Computer Choose p\n",
            "It is a Tie\n",
            "Do you want to play again? (y/n)n\n",
            "\n",
            "Thanks For Playing\n"
          ]
        }
      ]
    }
  ]
}