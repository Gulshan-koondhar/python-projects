{
  "nbformat": 4,
  "nbformat_minor": 0,
  "metadata": {
    "colab": {
      "provenance": []
    },
    "kernelspec": {
      "name": "python3",
      "display_name": "Python 3"
    },
    "language_info": {
      "name": "python"
    }
  },
  "cells": [
    {
      "cell_type": "code",
      "execution_count": 10,
      "metadata": {
        "colab": {
          "base_uri": "https://localhost:8080/"
        },
        "id": "769ES3l_n8uY",
        "outputId": "1af69611-24c0-4d93-cfff-814506df4d4b"
      },
      "outputs": [
        {
          "output_type": "stream",
          "name": "stdout",
          "text": [
            "Enter the time in seconds: 9\n",
            "00:09\n",
            "00:08\n",
            "00:07\n",
            "00:06\n",
            "00:05\n",
            "00:04\n",
            "00:03\n",
            "00:02\n",
            "00:01\n",
            "Time Up!!\n"
          ]
        }
      ],
      "source": [
        "#CountDown Timer\n",
        "\n",
        "import time\n",
        "\n",
        "def countDown(t):\n",
        "  while t:\n",
        "    minutes,seconds = divmod(t,60)\n",
        "    timer = '{:02d}:{:02d}'.format(minutes,seconds)\n",
        "    print(timer,flush = True)\n",
        "    t -= 1\n",
        "    time.sleep(1)\n",
        "\n",
        "def main():\n",
        "  time = input(\"Enter the time in seconds: \")\n",
        "  countDown(int(time))\n",
        "  print(\"Time Up!!\")\n",
        "\n",
        "if __name__ == \"__main__\":\n",
        "  main()"
      ]
    }
  ]
}