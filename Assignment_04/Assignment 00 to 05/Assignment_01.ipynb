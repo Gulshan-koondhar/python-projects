{
  "nbformat": 4,
  "nbformat_minor": 0,
  "metadata": {
    "colab": {
      "provenance": []
    },
    "kernelspec": {
      "name": "python3",
      "display_name": "Python 3"
    },
    "language_info": {
      "name": "python"
    }
  },
  "cells": [
    {
      "cell_type": "markdown",
      "source": [
        "# Assignment_01\n",
        "# 01-Basics"
      ],
      "metadata": {
        "id": "ZENIJJa99XaD"
      }
    },
    {
      "cell_type": "code",
      "source": [
        "#00_joke_bot.md\n",
        "\n",
        "PROMPT: str = \"What do you want? \"\n",
        "JOKE: str = \"Here is a joke for you! Sophia is heading out to the grocery store. A programmer tells her: get a liter of milk, and if they have eggs, get 12. Sophia returns with 13 liters of milk. The programmer asks why and Sophia replies: 'because they had eggs'\"\n",
        "SORRY: str = \"Sorry I only tell jokes.\"\n",
        "\n",
        "def main():\n",
        "  user_input = input(PROMPT)\n",
        "  if user_input == \"joke\":\n",
        "    print(JOKE)\n",
        "  else:\n",
        "    print(SORRY)\n",
        "\n",
        "if __name__ == \"__main__\":\n",
        "    main()"
      ],
      "metadata": {
        "colab": {
          "base_uri": "https://localhost:8080/"
        },
        "id": "LhLoMHDg9tpk",
        "outputId": "cf25d7d8-82ae-4b0d-ac45-f44a4ecff32f"
      },
      "execution_count": null,
      "outputs": [
        {
          "output_type": "stream",
          "name": "stdout",
          "text": [
            "What do you want? joke\n",
            "Here is a joke for you! Sophia is heading out to the grocery store. A programmer tells her: get a liter of milk, and if they have eggs, get 12. Sophia returns with 13 liters of milk. The programmer asks why and Sophia replies: 'because they had eggs'\n"
          ]
        }
      ]
    },
    {
      "cell_type": "code",
      "source": [
        "#01_double_it.md\n",
        "def main():\n",
        "  number = int(input(\"Enter a number: \"))\n",
        "  while number < 100:\n",
        "    number *= 2\n",
        "    print(number, end= \" \")\n",
        "\n",
        "if __name__ == \"__main__\":\n",
        "  main()"
      ],
      "metadata": {
        "colab": {
          "base_uri": "https://localhost:8080/"
        },
        "id": "yRwCak3r_bV4",
        "outputId": "fdb9127a-94bf-4ab3-e0b4-872942d5f1c4"
      },
      "execution_count": null,
      "outputs": [
        {
          "output_type": "stream",
          "name": "stdout",
          "text": [
            "Enter a number: 2\n",
            "4 8 16 32 64 128 "
          ]
        }
      ]
    },
    {
      "cell_type": "code",
      "source": [
        "#02_liftoff.md\n",
        "\n",
        "def main():\n",
        "  for i in range(10, 0, -1):\n",
        "    print(i, end= \" \")\n",
        "  print(\"Liftoff!\")\n",
        "\n",
        "\n",
        "\n",
        "if __name__ == '__main__':\n",
        "    main()"
      ],
      "metadata": {
        "colab": {
          "base_uri": "https://localhost:8080/"
        },
        "id": "uLb4bDym_tYT",
        "outputId": "c29e71ab-519e-456b-eab3-6ad1b2d24b39"
      },
      "execution_count": null,
      "outputs": [
        {
          "output_type": "stream",
          "name": "stdout",
          "text": [
            "10 9 8 7 6 5 4 3 2 1 Liftoff!\n"
          ]
        }
      ]
    },
    {
      "cell_type": "code",
      "source": [
        "#03_guess_my_number.md\n",
        "\n",
        "import random\n",
        "def main():\n",
        "  my_guess = random.randint(0, 99)\n",
        "  print(\"I am thinking of a number between 0 and 99...\")\n",
        "  while True:\n",
        "    guess = int(input(\"Enter your guess: \"))\n",
        "    if guess == my_guess:\n",
        "      print(f\"Congrats, You got it!. The number is {my_guess}\")\n",
        "      break\n",
        "    elif guess < my_guess:\n",
        "      print(\"Your guess is Too low\")\n",
        "    else:\n",
        "      print(\"your guess is Too high\")\n",
        "if __name__ == '__main__':\n",
        "    main()"
      ],
      "metadata": {
        "colab": {
          "base_uri": "https://localhost:8080/"
        },
        "id": "M9qLgGil_8nj",
        "outputId": "120ce0e4-77a1-42e3-f18d-4a7f22e6d6cd"
      },
      "execution_count": null,
      "outputs": [
        {
          "output_type": "stream",
          "name": "stdout",
          "text": [
            "I am thinking of a number between 0 and 99...\n",
            "Enter your guess: 10\n",
            "Your guess is Too low\n",
            "Enter your guess: 20\n",
            "Your guess is Too low\n",
            "Enter your guess: 30\n",
            "Your guess is Too low\n",
            "Enter your guess: 40\n",
            "Your guess is Too low\n",
            "Enter your guess: 40\n",
            "Your guess is Too low\n",
            "Enter your guess: 70\n",
            "your guess is Too high\n",
            "Enter your guess: 60\n",
            "Your guess is Too low\n",
            "Enter your guess: 65\n",
            "your guess is Too high\n",
            "Enter your guess: 63\n",
            "your guess is Too high\n",
            "Enter your guess: 61\n",
            "Your guess is Too low\n",
            "Enter your guess: 62\n",
            "Congrats, You got it!. The number is 62\n"
          ]
        }
      ]
    },
    {
      "cell_type": "code",
      "source": [
        "#04_random_numbers.md\n",
        "\n",
        "import random\n",
        "\n",
        "N_NUMBERS : int = 10\n",
        "MIN_VALUE : int = 1\n",
        "MAX_VALUE : int = 100\n",
        "\n",
        "def main():\n",
        "\n",
        "    for _ in range(N_NUMBERS):\n",
        "        random_number = random.randint(MIN_VALUE, MAX_VALUE)\n",
        "        print(random_number, end= \" \")\n",
        "\n",
        "if __name__ == '__main__':\n",
        "    main()"
      ],
      "metadata": {
        "colab": {
          "base_uri": "https://localhost:8080/"
        },
        "id": "xdlRnHyDAPVr",
        "outputId": "fca7c542-e9c4-42f8-8eef-a5be3d41f441"
      },
      "execution_count": null,
      "outputs": [
        {
          "output_type": "stream",
          "name": "stdout",
          "text": [
            "29 96 45 68 88 13 64 52 92 24 "
          ]
        }
      ]
    },
    {
      "cell_type": "markdown",
      "source": [
        "# 02 - Intermediate"
      ],
      "metadata": {
        "id": "iR04CVB4A8PY"
      }
    },
    {
      "cell_type": "markdown",
      "source": [
        "# Control Flow For Console\n",
        "**Problem: High Low**\n"
      ],
      "metadata": {
        "id": "mWNDU1RFBEc8"
      }
    },
    {
      "cell_type": "code",
      "source": [
        "#Milestone #1: Generate the random numbers\n",
        "import random\n",
        "def main():\n",
        "  print(\"Welcome to the High-Low Game!\")\n",
        "  print(\"------------------------------\")\n",
        "\n",
        "  user_number = random.randint(1, 100)\n",
        "  print(f\"Your Number is {user_number}\")\n",
        "  computer_number = random.randint(1, 100)\n",
        "  print(f\"Computer Number is {computer_number}\")\n",
        "\n",
        "if __name__ == '__main__':\n",
        "    main()"
      ],
      "metadata": {
        "colab": {
          "base_uri": "https://localhost:8080/"
        },
        "id": "JeBejEWxBW3J",
        "outputId": "8cf4ca5a-05d3-4fea-dcf6-20ae13824618"
      },
      "execution_count": null,
      "outputs": [
        {
          "output_type": "stream",
          "name": "stdout",
          "text": [
            "Welcome to the High-Low Game!\n",
            "------------------------------\n",
            "Your Number is 33\n",
            "Computer Number is 9\n"
          ]
        }
      ]
    },
    {
      "cell_type": "code",
      "source": [
        "#Milestone #2: Get the user choice\n",
        "\n",
        "import random\n",
        "def main():\n",
        "  print(\"Welcome to the High-Low Game!\")\n",
        "  print(\"------------------------------\")\n",
        "\n",
        "  user_number = random.randint(1, 100)\n",
        "  print(f\"Your Number is {user_number}\")\n",
        "  computer_number = random.randint(1, 100)\n",
        "  print(f\"Computer Number is {computer_number}\")\n",
        "\n",
        "  guess_comp_number = input(\"Do you think your number is higher or lower than the computer's?: \")\n",
        "\n",
        "\n",
        "if __name__ == '__main__':\n",
        "    main()"
      ],
      "metadata": {
        "colab": {
          "base_uri": "https://localhost:8080/"
        },
        "id": "lSb7jVsLCYKd",
        "outputId": "d3130e48-d65a-4c3b-e5e2-1ac2199dfaa6"
      },
      "execution_count": null,
      "outputs": [
        {
          "name": "stdout",
          "output_type": "stream",
          "text": [
            "Welcome to the High-Low Game!\n",
            "------------------------------\n",
            "Your Number is 54\n",
            "Computer Number is 13\n",
            "Do you think your number is higher or lower than the computer's?: higher\n"
          ]
        }
      ]
    },
    {
      "cell_type": "code",
      "source": [
        "#Milestone #3: Write the game logic\n",
        "\n",
        "import random\n",
        "def main():\n",
        "  print(\"Welcome to the High-Low Game!\")\n",
        "  print(\"------------------------------\")\n",
        "\n",
        "  user_number = random.randint(1, 100)\n",
        "  print(f\"Your Number is {user_number}\")\n",
        "  computer_number = random.randint(1, 100)\n",
        "  print(f\"Computer Number is {computer_number}\")\n",
        "\n",
        "  guess_comp_number = input(\"Do you think your number is higher or lower than the computer's?: \")\n",
        "\n",
        "  if guess_comp_number == \"higher\" and computer_number > user_number:\n",
        "    print(f\"You were right! The computer's number was {computer_number}\")\n",
        "\n",
        "\n",
        "if __name__ == '__main__':\n",
        "    main()"
      ],
      "metadata": {
        "colab": {
          "base_uri": "https://localhost:8080/"
        },
        "id": "2pnfGJK9Crjj",
        "outputId": "4fe7415b-aee6-4f30-f57e-5e1f6036306f"
      },
      "execution_count": null,
      "outputs": [
        {
          "output_type": "stream",
          "name": "stdout",
          "text": [
            "Welcome to the High-Low Game!\n",
            "------------------------------\n",
            "Your Number is 39\n",
            "Computer Number is 61\n",
            "Do you think your number is higher or lower than the computer's?: higher\n",
            "You were right! The computer's number was 61\n"
          ]
        }
      ]
    },
    {
      "cell_type": "code",
      "source": [
        "#Milestone #4: Play multiple rounds\n",
        "\n",
        "import random\n",
        "\n",
        "def main():\n",
        "  num_rounds = 1\n",
        "  print(\"Welcome to the High-Low Game!\")\n",
        "  print(\"------------------------------\")\n",
        "\n",
        "  while 5 >= num_rounds:\n",
        "    print(f\"\\nRound {num_rounds}\")\n",
        "    user_number = random.randint(1, 100)\n",
        "    print(f\"Your Number is {user_number}\")\n",
        "    computer_number = random.randint(1, 100)\n",
        "    print(f\"Computer Number is {computer_number}\")\n",
        "\n",
        "    guess_comp_number = input(\"Do you think your number is higher or lower than the computer's?: \")\n",
        "\n",
        "    if guess_comp_number.lower() == \"higher\":\n",
        "      if computer_number > user_number:\n",
        "        print(f\"You were right! The computer's number was {computer_number}\")\n",
        "      else:\n",
        "        print(f\"You were wrong! The computer's number was {computer_number}\")\n",
        "    if guess_comp_number.lower() == \"lower\":\n",
        "      if computer_number < user_number:\n",
        "        print(f\"You were right! The computer's number was {computer_number}\")\n",
        "      else:\n",
        "        print(f\"You were wrong! The computer's number was {computer_number}\")\n",
        "    num_rounds += 1\n",
        "\n",
        "\n",
        "if __name__ == '__main__':\n",
        "    main()\n"
      ],
      "metadata": {
        "colab": {
          "base_uri": "https://localhost:8080/"
        },
        "id": "nIOZX51oDPNq",
        "outputId": "e3309823-b411-41b9-e6c3-845177ce5346"
      },
      "execution_count": null,
      "outputs": [
        {
          "output_type": "stream",
          "name": "stdout",
          "text": [
            "Welcome to the High-Low Game!\n",
            "------------------------------\n",
            "\n",
            "Round 1\n",
            "Your Number is 74\n",
            "Computer Number is 14\n",
            "Do you think your number is higher or lower than the computer's?: lower\n",
            "You were right! The computer's number was 14\n",
            "\n",
            "Round 2\n",
            "Your Number is 69\n",
            "Computer Number is 47\n",
            "Do you think your number is higher or lower than the computer's?: higher\n",
            "You were wrong! The computer's number was 47\n",
            "\n",
            "Round 3\n",
            "Your Number is 31\n",
            "Computer Number is 33\n",
            "Do you think your number is higher or lower than the computer's?: lower\n",
            "You were wrong! The computer's number was 33\n",
            "\n",
            "Round 4\n",
            "Your Number is 86\n",
            "Computer Number is 29\n",
            "Do you think your number is higher or lower than the computer's?: higher\n",
            "You were wrong! The computer's number was 29\n",
            "\n",
            "Round 5\n",
            "Your Number is 30\n",
            "Computer Number is 83\n",
            "Do you think your number is higher or lower than the computer's?: lower\n",
            "You were wrong! The computer's number was 83\n"
          ]
        }
      ]
    },
    {
      "cell_type": "code",
      "source": [
        "#Milestone #5: Adding a points system\n",
        "import random\n",
        "\n",
        "def main():\n",
        "  score = 0\n",
        "  num_rounds = 1\n",
        "  print(\"Welcome to the High-Low Game!\")\n",
        "  print(\"------------------------------\")\n",
        "\n",
        "  while 5 >= num_rounds:\n",
        "    print(f\"\\nRound {num_rounds}\")\n",
        "    user_number = random.randint(1, 100)\n",
        "    print(f\"Your Number is {user_number}\")\n",
        "    computer_number = random.randint(1, 100)\n",
        "    print(f\"Computer Number is {computer_number}\")\n",
        "\n",
        "    guess_comp_number = input(\"Do you think your number is higher or lower than the computer's?: \")\n",
        "\n",
        "    if guess_comp_number.lower() == \"higher\":\n",
        "      if computer_number > user_number:\n",
        "        print(f\"You were right! The computer's number was {computer_number}\")\n",
        "        score += 1\n",
        "      else:\n",
        "        print(f\"You were wrong! The computer's number was {computer_number}\")\n",
        "    if guess_comp_number.lower() == \"lower\":\n",
        "      if computer_number < user_number:\n",
        "        print(f\"You were right! The computer's number was {computer_number}\")\n",
        "        score += 1\n",
        "      else:\n",
        "        print(f\"You were wrong! The computer's number was {computer_number}\")\n",
        "    num_rounds += 1\n",
        "  if score == 1:\n",
        "    print(f\"\\nYour Score is {score}\")\n",
        "    print(\"\\nBetter luck next time!\")\n",
        "  elif score == 2:\n",
        "    print(f\"\\nYour Score is {score}\")\n",
        "    print(\"\\nNot bad!\")\n",
        "  elif score == 3:\n",
        "    print(f\"\\nYour Score is {score}\")\n",
        "    print(\"\\nGood job!\")\n",
        "  elif score == 4:\n",
        "    print(f\"\\nYour Score is {score}\")\n",
        "    print(\"\\nExcellent!\")\n",
        "  elif score == 5:\n",
        "    print(f\"\\nYour Score is {score}\")\n",
        "    print(\"\\nPerfect!\")\n",
        "\n",
        "if __name__ == '__main__':\n",
        "    main()\n"
      ],
      "metadata": {
        "colab": {
          "base_uri": "https://localhost:8080/"
        },
        "id": "WfBScCMPF3zc",
        "outputId": "998a7c05-7156-4976-eee1-81338ccdd2f2"
      },
      "execution_count": null,
      "outputs": [
        {
          "output_type": "stream",
          "name": "stdout",
          "text": [
            "Welcome to the High-Low Game!\n",
            "------------------------------\n",
            "\n",
            "Round 1\n",
            "Your Number is 5\n",
            "Computer Number is 64\n",
            "Do you think your number is higher or lower than the computer's?: higher\n",
            "You were right! The computer's number was 64\n",
            "\n",
            "Round 2\n",
            "Your Number is 34\n",
            "Computer Number is 88\n",
            "Do you think your number is higher or lower than the computer's?: lower\n",
            "You were wrong! The computer's number was 88\n",
            "\n",
            "Round 3\n",
            "Your Number is 12\n",
            "Computer Number is 74\n",
            "Do you think your number is higher or lower than the computer's?: higher\n",
            "You were right! The computer's number was 74\n",
            "\n",
            "Round 4\n",
            "Your Number is 78\n",
            "Computer Number is 16\n",
            "Do you think your number is higher or lower than the computer's?: lower\n",
            "You were right! The computer's number was 16\n",
            "\n",
            "Round 5\n",
            "Your Number is 44\n",
            "Computer Number is 89\n",
            "Do you think your number is higher or lower than the computer's?: higher\n",
            "You were right! The computer's number was 89\n",
            "\n",
            "Your Score is 4\n",
            "\n",
            "Excellent!\n"
          ]
        }
      ]
    },
    {
      "cell_type": "markdown",
      "source": [
        "# Intro to Python\n",
        "**Problem: Planetary Weight Calculator**"
      ],
      "metadata": {
        "id": "40YqPsFwHb1Z"
      }
    },
    {
      "cell_type": "code",
      "source": [
        "#Milestone #1: Mars Weight\n",
        "\n",
        "def main():\n",
        "  weight_on_Earth = int(input(\"Enter your weight on Earth: \"))\n",
        "  weight_on_Mars = weight_on_Earth * 0.38\n",
        "  print(f\"Your weight on Mars is {weight_on_Mars:.2f}\")\n",
        "\n",
        "\n",
        "if __name__ == '__main__':\n",
        "    main()"
      ],
      "metadata": {
        "colab": {
          "base_uri": "https://localhost:8080/"
        },
        "id": "K-Lx8T4NHmtE",
        "outputId": "b81ffbd2-8f37-41bf-94ef-61eb5dcfbf94"
      },
      "execution_count": 2,
      "outputs": [
        {
          "output_type": "stream",
          "name": "stdout",
          "text": [
            "Enter your weight on Earth: 76\n",
            "Your weight on Mars is 28.88\n"
          ]
        }
      ]
    },
    {
      "cell_type": "code",
      "source": [
        "#Milestone #2: Adding in All Planets\n",
        "\n",
        "def main():\n",
        "  weight_on_Earth = int(input(\"Enter your weight on Earth: \"))\n",
        "  choose_planet = input(\"Enter the name of the planet you want to know your weight on: \")\n",
        "\n",
        "  if choose_planet.lower() == \"mercury\":\n",
        "    weight_on_Mercury = weight_on_Earth * 0.38\n",
        "    print(f\"Your weight on {choose_planet} is {weight_on_Mercury:.2f}\")\n",
        "  elif choose_planet.lower() == \"venus\":\n",
        "    weight_on_Venus = weight_on_Earth * 0.88\n",
        "    print(f\"Your weight on {choose_planet} is {weight_on_Venus:.2f}\")\n",
        "  elif choose_planet.lower() == \"mars\":\n",
        "    weight_on_Mars = weight_on_Earth * 0.38\n",
        "    print(f\"Your weight on {choose_planet} is {weight_on_Mars:.2f}\")\n",
        "  elif choose_planet.lower() == \"jupiter\":\n",
        "    weight_on_Jupiter = weight_on_Earth * 2.34\n",
        "    print(f\"Your weight on {choose_planet} is {weight_on_Jupiter:.2f}\")\n",
        "  elif choose_planet.lower() == \"saturn\":\n",
        "    weight_on_Saturn = weight_on_Earth * 1.08\n",
        "    print(f\"Your weight on {choose_planet} is {weight_on_Saturn:.2f}\")\n",
        "  elif choose_planet.lower() == \"uranus\":\n",
        "    weight_on_Uranus = weight_on_Earth * 0.81\n",
        "    print(f\"Your weight on {choose_planet} is {weight_on_Uranus:.2f}\")\n",
        "  elif choose_planet.lower() == \"neptune\":\n",
        "    weight_on_Neptune = weight_on_Earth * 1.14\n",
        "    print(f\"Your weight on {choose_planet} is {weight_on_Neptune:.2f}\")\n",
        "  else:\n",
        "    print(\"Invalid planet name\")\n",
        "\n",
        "\n",
        "if __name__ == '__main__':\n",
        "    main()\n"
      ],
      "metadata": {
        "colab": {
          "base_uri": "https://localhost:8080/"
        },
        "id": "k_v4jEdVXm-4",
        "outputId": "3e140f71-4965-44dc-a06a-254e15825c9e"
      },
      "execution_count": 9,
      "outputs": [
        {
          "output_type": "stream",
          "name": "stdout",
          "text": [
            "Enter your weight on Earth: 78\n",
            "Enter the name of the planet you want to know your weight on: venus\n",
            "Your weight on venus is 68.64\n"
          ]
        }
      ]
    },
    {
      "cell_type": "markdown",
      "source": [
        "# List and Dicts\n",
        "\n",
        "**Problem #1: List Practice**"
      ],
      "metadata": {
        "id": "14Iu2xeQa061"
      }
    },
    {
      "cell_type": "code",
      "source": [
        "# List Practice:\n",
        "\n",
        "def main():\n",
        "  fruit_list = [\"apple\", \"banana\", \"orange\", \"grapes\", \"pineapple\"]\n",
        "  print(f\"length of the fruit List is {len(fruit_list)}\")\n",
        "  fruit_list.append(\"mango\")\n",
        "  print(f\"Updated fruit List is {fruit_list}\")\n",
        "\n",
        "if __name__ == '__main__':\n",
        "    main()\n",
        "\n"
      ],
      "metadata": {
        "colab": {
          "base_uri": "https://localhost:8080/"
        },
        "id": "Jj-5b-4pan3w",
        "outputId": "8e06a609-3213-4a2a-8a56-990f54887316"
      },
      "execution_count": 10,
      "outputs": [
        {
          "output_type": "stream",
          "name": "stdout",
          "text": [
            "length of the fruit List is 5\n",
            "Updated fruit List is ['apple', 'banana', 'orange', 'grapes', 'pineapple', 'mango']\n"
          ]
        }
      ]
    },
    {
      "cell_type": "markdown",
      "source": [
        "**Problem #2: Index Game**"
      ],
      "metadata": {
        "id": "_KKOYRDkcDY3"
      }
    },
    {
      "cell_type": "code",
      "source": [
        "#Index Game\n",
        "\n",
        "def access_element(lst, index):\n",
        "    try:\n",
        "        return lst[index]\n",
        "    except IndexError:\n",
        "        return \"Index out of range!\"\n",
        "\n",
        "\n",
        "def modify_element(lst, index, new_value):\n",
        "    try:\n",
        "        lst[index] = new_value\n",
        "        return \"List updated successfully!\"\n",
        "    except IndexError:\n",
        "        return \"Index out of range!\"\n",
        "\n",
        "\n",
        "def slice_list(lst, start, end):\n",
        "    return lst[start:end]\n",
        "\n",
        "\n",
        "def index_game():\n",
        "    my_list = [10, 20, 30, 40, 50]\n",
        "\n",
        "    while True:\n",
        "        print(\"\\nOptions:\")\n",
        "        print(\"1. Access an element\")\n",
        "        print(\"2. Modify an element\")\n",
        "        print(\"3. Slice the list\")\n",
        "        print(\"4. Exit\")\n",
        "\n",
        "        choice = input(\"Choose an option: \")\n",
        "\n",
        "        if choice == '1':\n",
        "            index = int(input(\"Enter index to access: \"))\n",
        "            print(\"Element:\", access_element(my_list, index))\n",
        "\n",
        "        elif choice == '2':\n",
        "            index = int(input(\"Enter index to modify: \"))\n",
        "            new_value = int(input(\"Enter new value: \"))\n",
        "            print(modify_element(my_list, index, new_value))\n",
        "            print(\"Updated list:\", my_list)\n",
        "\n",
        "        elif choice == '3':\n",
        "            start = int(input(\"Enter start index: \"))\n",
        "            end = int(input(\"Enter end index: \"))\n",
        "            print(\"Sliced list:\", slice_list(my_list, start, end))\n",
        "\n",
        "        elif choice == '4':\n",
        "            print(\"Exiting the game.\")\n",
        "            break\n",
        "\n",
        "        else:\n",
        "            print(\"Invalid option, try again.\")\n",
        "def main():\n",
        "  index_game()\n",
        "\n",
        "if __name__ == \"__main__\":\n",
        "    main()\n"
      ],
      "metadata": {
        "colab": {
          "base_uri": "https://localhost:8080/"
        },
        "id": "CE0EtKt0cCRZ",
        "outputId": "0027e78e-1d3d-4659-c1b5-f970005ca8e1"
      },
      "execution_count": 12,
      "outputs": [
        {
          "output_type": "stream",
          "name": "stdout",
          "text": [
            "\n",
            "Options:\n",
            "1. Access an element\n",
            "2. Modify an element\n",
            "3. Slice the list\n",
            "4. Exit\n",
            "Choose an option: 1\n",
            "Enter index to access: 2\n",
            "Element: 30\n",
            "\n",
            "Options:\n",
            "1. Access an element\n",
            "2. Modify an element\n",
            "3. Slice the list\n",
            "4. Exit\n",
            "Choose an option: 2\n",
            "Enter index to modify: 2\n",
            "Enter new value: 20\n",
            "List updated successfully!\n",
            "Updated list: [10, 20, 20, 40, 50]\n",
            "\n",
            "Options:\n",
            "1. Access an element\n",
            "2. Modify an element\n",
            "3. Slice the list\n",
            "4. Exit\n",
            "Choose an option: 3\n",
            "Enter start index: 2\n",
            "Enter end index: 4\n",
            "Sliced list: [20, 40]\n",
            "\n",
            "Options:\n",
            "1. Access an element\n",
            "2. Modify an element\n",
            "3. Slice the list\n",
            "4. Exit\n",
            "Choose an option: 4\n",
            "Exiting the game.\n"
          ]
        }
      ]
    }
  ]
}