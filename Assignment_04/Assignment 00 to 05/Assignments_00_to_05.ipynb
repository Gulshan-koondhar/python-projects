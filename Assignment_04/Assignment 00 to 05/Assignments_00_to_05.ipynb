{
  "cells": [
    {
      "cell_type": "markdown",
      "metadata": {
        "id": "cookflHJ2i21"
      },
      "source": [
        "# Assignments 00 to 05\n",
        "\n"
      ]
    },
    {
      "cell_type": "markdown",
      "metadata": {
        "id": "vHcSyfvc3Q-S"
      },
      "source": [
        "# 00 - Intro-Python\n"
      ]
    },
    {
      "cell_type": "code",
      "execution_count": null,
      "metadata": {
        "colab": {
          "base_uri": "https://localhost:8080/"
        },
        "id": "TOrpSoaa1LoH",
        "outputId": "114652d9-e4b4-4ecb-9660-875cadc7a7be"
      },
      "outputs": [
        {
          "name": "stdout",
          "output_type": "stream",
          "text": [
            "This Program Add two Numbers\n",
            "Enter First Number: 10\n",
            "enter Second Number: 21\n",
            "The sum of 10 and 21 is 31\n"
          ]
        }
      ],
      "source": [
        "# 01_add_two_numbers.md\n",
        "def main():\n",
        "    print(\"This Program Add two Numbers\")\n",
        "    num1 = int(input(\"Enter First Number: \"))\n",
        "    num2 = int(input(\"enter Second Number: \"))\n",
        "    sum_result = num1 + num2\n",
        "    print(f\"The sum of {num1} and {num2} is {sum_result}\")\n",
        "if __name__ == '__main__':\n",
        "    main()"
      ]
    },
    {
      "cell_type": "code",
      "execution_count": null,
      "metadata": {
        "colab": {
          "base_uri": "https://localhost:8080/"
        },
        "id": "5mL7SdQY4HZv",
        "outputId": "753843cf-950d-4622-a16a-f5b0caa42136"
      },
      "outputs": [
        {
          "name": "stdout",
          "output_type": "stream",
          "text": [
            "This Program Agreement Bot\n",
            "What is your favorite food? Pizza\n",
            "My favorite food is also Pizza\n"
          ]
        }
      ],
      "source": [
        "#02_agreement_bot.md\n",
        "def main():\n",
        "    print(\"This Program Agreement Bot\")\n",
        "    fav_food = input(\"What is your favorite food? \")\n",
        "    print(f\"My favorite food is also {fav_food}\")\n",
        "\n",
        "# This provided line is required at the end of\n",
        "# Python file to call the main() function.\n",
        "if __name__ == '__main__':\n",
        "    main()"
      ]
    },
    {
      "cell_type": "code",
      "execution_count": null,
      "metadata": {
        "colab": {
          "base_uri": "https://localhost:8080/"
        },
        "id": "yvcbTFsz6L7t",
        "outputId": "10170ae6-8d22-4d49-eea3-bd404e8b63b0"
      },
      "outputs": [
        {
          "name": "stdout",
          "output_type": "stream",
          "text": [
            "This Program Convert Fahrenheit to Celsius\n",
            "Enter temperature in Fahrenheit: 76\n",
            "Temperature: 76.0F = 24.444444444444443C\n"
          ]
        }
      ],
      "source": [
        "#03_fahrenheit_to_celsius.md\n",
        "\n",
        "def main():\n",
        "    print(\"This Program Convert Fahrenheit to Celsius\")\n",
        "    fahrenheit = float(input(\"Enter temperature in Fahrenheit: \"))\n",
        "    celsius = (fahrenheit - 32) * 5/9\n",
        "    print(f\"Temperature: {fahrenheit}F = {celsius}C\")\n",
        "\n",
        "\n",
        "# This provided line is required at the end of\n",
        "# Python file to call the main() function.\n",
        "if __name__ == '__main__':\n",
        "    main()"
      ]
    },
    {
      "cell_type": "code",
      "execution_count": null,
      "metadata": {
        "colab": {
          "base_uri": "https://localhost:8080/"
        },
        "id": "K3ZsdAwT6X53",
        "outputId": "95dae44f-7041-4ab5-c3f0-001ee1e1d1a7"
      },
      "outputs": [
        {
          "name": "stdout",
          "output_type": "stream",
          "text": [
            "Anton is 21 years old\n",
            "Beth is 27 years old\n",
            "Chen is 47 years old\n",
            "Drew is 68 years old\n",
            "Ethan is 47 years old\n"
          ]
        }
      ],
      "source": [
        "#04_how_old_are_they.md\n",
        "def main():\n",
        "    anton = 21\n",
        "    beth = 6 + anton\n",
        "    chen = 20 + beth\n",
        "    drew = chen + anton\n",
        "    ethan = chen\n",
        "\n",
        "    print(f\"Anton is {str(anton)} years old\")\n",
        "    print(f\"Beth is {str(beth)} years old\")\n",
        "    print(f\"Chen is {str(chen)} years old\")\n",
        "    print(f\"Drew is {str(drew)} years old\")\n",
        "    print(f\"Ethan is {str(ethan)} years old\")\n",
        "\n",
        "# This provided line is required at the end of\n",
        "# Python file to call the main() function.\n",
        "if __name__ == '__main__':\n",
        "    main()"
      ]
    },
    {
      "cell_type": "code",
      "execution_count": null,
      "metadata": {
        "colab": {
          "base_uri": "https://localhost:8080/"
        },
        "id": "o_8BdMmd8NSE",
        "outputId": "dfab8c36-27fb-45b0-a392-e6512d8944c2"
      },
      "outputs": [
        {
          "name": "stdout",
          "output_type": "stream",
          "text": [
            "This program is used to calculate the Perimeter of Triangle\n",
            "Enter the length of side a: 3\n",
            "Enter the length of side b: 4\n",
            "Enter the length of side c: 5\n",
            "The perimeter of the triangle is 12.0\n"
          ]
        }
      ],
      "source": [
        "#05_triangle_perimeter.md\n",
        "def main():\n",
        "  print(\"This program is used to calculate the Perimeter of Triangle\")\n",
        "  sidea = float(input(\"Enter the length of side a: \"))\n",
        "  sideb = float(input(\"Enter the length of side b: \"))\n",
        "  sidec = float(input(\"Enter the length of side c: \"))\n",
        "  perimeter = sidea + sideb + sidec\n",
        "  print(f\"The perimeter of the triangle is {perimeter}\")\n",
        "\n",
        "\n",
        "\n",
        "# This provided line is required at the end of\n",
        "# Python file to call the main() function.\n",
        "if __name__ == '__main__':\n",
        "    main()"
      ]
    },
    {
      "cell_type": "code",
      "execution_count": null,
      "metadata": {
        "colab": {
          "base_uri": "https://localhost:8080/"
        },
        "id": "ZLbCvo548Swk",
        "outputId": "6fbba209-b198-41f7-85f3-f5d57451f1bc"
      },
      "outputs": [
        {
          "name": "stdout",
          "output_type": "stream",
          "text": [
            "This program is used to calclate the square of a number\n",
            "Enter a number: 4\n",
            "The Square of 4 = 16.0\n"
          ]
        }
      ],
      "source": [
        "#06_square_number.md\n",
        "def main():\n",
        "    print(\"This program is used to calclate the square of a number\")\n",
        "    num = int(input(\"Enter a number: \"))\n",
        "    print(f\"The Square of {num} = {num ** 2:.1f}\")\n",
        "\n",
        "if __name__ == '__main__':\n",
        "    main()"
      ]
    },
    {
      "cell_type": "markdown",
      "metadata": {
        "id": "1W9WDo3_879s"
      },
      "source": [
        "# 01_expressions"
      ]
    },
    {
      "cell_type": "code",
      "execution_count": null,
      "metadata": {
        "colab": {
          "base_uri": "https://localhost:8080/"
        },
        "id": "Y27UzxTV9FES",
        "outputId": "303cb6a3-06e8-4609-9773-de0934fe98d1"
      },
      "outputs": [
        {
          "name": "stdout",
          "output_type": "stream",
          "text": [
            "This Program is simulating the two dices three times in a row \n",
            "\n",
            "Dice 1: 4, Dice 2: 6, Total: 10\n",
            "\n",
            "Dice 1: 6, Dice 2: 6, Total: 12\n",
            "\n",
            "Dice 1: 1, Dice 2: 6, Total: 7\n"
          ]
        }
      ],
      "source": [
        "#01_dicesimulator.md\n",
        "import random\n",
        "def main():\n",
        "    print(\"This Program is simulating the two dices three times in a row \")\n",
        "    for i in range(3):\n",
        "      dice1 = random.randint(1, 6)\n",
        "      dice2 = random.randint(1, 6)\n",
        "      print(f\"\\nDice 1: {dice1}, Dice 2: {dice2}, Total: {dice1 + dice2}\")\n",
        "\n",
        "\n",
        "# This provided line is required at the end of\n",
        "# Python file to call the main() function.\n",
        "if __name__ == '__main__':\n",
        "    main()"
      ]
    },
    {
      "cell_type": "code",
      "execution_count": null,
      "metadata": {
        "colab": {
          "base_uri": "https://localhost:8080/"
        },
        "id": "35H9C1QQ--YR",
        "outputId": "e67d46ce-f370-4721-845a-05b60fe66ace"
      },
      "outputs": [
        {
          "name": "stdout",
          "output_type": "stream",
          "text": [
            "This program is used to calculate the value of Energy using mass and speed of light\n",
            "Enter mass of the object in Kg: 21\n",
            "The Energy is 1.887385875347317e+18 joules of energy!\n"
          ]
        }
      ],
      "source": [
        "#02_e=mc2.md\n",
        "def main():\n",
        "    print(\"This program is used to calculate the value of Energy using mass and speed of light\")\n",
        "    c: int = 299792458\n",
        "    m = float(input(\"Enter mass of the object in Kg: \"))\n",
        "    e = m * c ** 2;\n",
        "    print(f\"The Energy is {e} joules of energy!\")\n",
        "\n",
        "\n",
        "# This provided line is required at the end of\n",
        "# Python file to call the main() function.\n",
        "if __name__ == '__main__':\n",
        "    main()"
      ]
    },
    {
      "cell_type": "code",
      "execution_count": null,
      "metadata": {
        "colab": {
          "base_uri": "https://localhost:8080/"
        },
        "id": "PG0fgr9gAWHp",
        "outputId": "c9fc5725-976e-467e-886b-ef9df6a600f9"
      },
      "outputs": [
        {
          "name": "stdout",
          "output_type": "stream",
          "text": [
            "This program converts feet to inches \n",
            "Enter the number of feet:3\n",
            "3.0 feet is equal to 36.0 inches\n"
          ]
        }
      ],
      "source": [
        "#03_feet_to_inches.md\n",
        "\n",
        "foot = 12\n",
        "\n",
        "def main():\n",
        "    print(\"This program converts feet to inches \")\n",
        "    feet = float(input(\"Enter the number of feet: \"))\n",
        "    inches = feet * foot\n",
        "    print(f\"{feet} feet is equal to {inches} inches\")\n",
        "\n",
        "\n",
        "# This provided line is required at the end of\n",
        "# Python file to call the main() function.\n",
        "if __name__ == '__main__':\n",
        "    main()"
      ]
    },
    {
      "cell_type": "code",
      "execution_count": null,
      "metadata": {
        "colab": {
          "base_uri": "https://localhost:8080/"
        },
        "id": "1TSyqfHaBgDk",
        "outputId": "ec074b0e-5d80-41db-e505-6fad74462bd7"
      },
      "outputs": [
        {
          "name": "stdout",
          "output_type": "stream",
          "text": [
            "This program is used to calculate the length of a hypotenuse of a right angle triangle.\n",
            "Enter the length of a perpendicular: 3\n",
            "Enter the length of a base: 4\n",
            "The length of a hypotenuse of a right angle triangle is 5.00\n"
          ]
        }
      ],
      "source": [
        "#04_pythagorean_theorem.md\n",
        "from math import sqrt\n",
        "def main():\n",
        "    print(\"This program is used to calculate the length of a hypotenuse of a right angle triangle.\")\n",
        "    perpendicular = float(input(\"Enter the length of a perpendicular: \"))\n",
        "    base = float(input(\"Enter the length of a base: \"))\n",
        "    hypotenuse = sqrt(perpendicular ** 2 + base ** 2)\n",
        "    print(f\"The length of a hypotenuse of a right angle triangle is {hypotenuse:.2f}\")\n",
        "\n",
        "# This provided line is required at the end of\n",
        "# Python file to call the main() function.\n",
        "if __name__ == '__main__':\n",
        "    main()"
      ]
    },
    {
      "cell_type": "code",
      "execution_count": null,
      "metadata": {
        "colab": {
          "base_uri": "https://localhost:8080/"
        },
        "id": "PekKxcgNDULm",
        "outputId": "03d68704-5aa8-4bc4-a6f5-92dfb5c1d9b1"
      },
      "outputs": [
        {
          "name": "stdout",
          "output_type": "stream",
          "text": [
            "This program is used to calculate the remainder and quotient of two numbers\n",
            "Enter the number to be divided: 5\n",
            "Enter the number to be divide by: 3\n",
            "The result of this division is 1 with a remainder of 2\n"
          ]
        }
      ],
      "source": [
        "#05_remainder_division.md\n",
        "def main():\n",
        "    print(\"This program is used to calculate the remainder and quotient of two numbers\")\n",
        "    num1 = int(input(\"Enter the number to be divided: \"))\n",
        "    num2 = int(input(\"Enter the number to be divide by: \"))\n",
        "\n",
        "    quotient = num1 // num2\n",
        "    remainder = num1 % num2\n",
        "\n",
        "    print(f\"The result of this division is {quotient} with a remainder of {remainder}\")\n",
        "\n",
        "\n",
        "# This provided line is required at the end of\n",
        "# Python file to call the main() function.\n",
        "if __name__ == '__main__':\n",
        "    main()"
      ]
    },
    {
      "cell_type": "code",
      "execution_count": null,
      "metadata": {
        "colab": {
          "base_uri": "https://localhost:8080/"
        },
        "id": "AQTopGpwEcdb",
        "outputId": "4afdb4da-87d8-42c5-f406-77a547aec589"
      },
      "outputs": [
        {
          "name": "stdout",
          "output_type": "stream",
          "text": [
            "Dice 1 = 6\n",
            "Dice 2 = 4\n",
            "Total = 10\n"
          ]
        }
      ],
      "source": [
        "#06_rolldice.md\n",
        "\n",
        "import random\n",
        "def main():\n",
        "    dice1 = random.randint(1, 6)\n",
        "    dice2 = random.randint(1, 6)\n",
        "    print(f\"Dice 1 = {dice1}\")\n",
        "    print(f\"Dice 2 = {dice2}\")\n",
        "    print(f\"Total = {dice1 + dice2}\")\n",
        "\n",
        "\n",
        "\n",
        "# This provided line is required at the end of\n",
        "# Python file to call the main() function.\n",
        "if __name__ == '__main__':\n",
        "    main()"
      ]
    },
    {
      "cell_type": "code",
      "execution_count": null,
      "metadata": {
        "colab": {
          "base_uri": "https://localhost:8080/"
        },
        "id": "X1x754eyFING",
        "outputId": "06953ec9-33fe-4045-a7a5-37e2f7ae62f0"
      },
      "outputs": [
        {
          "name": "stdout",
          "output_type": "stream",
          "text": [
            "This program shows the seconds in a year\n",
            "There are 31536000 seconds in a year\n"
          ]
        }
      ],
      "source": [
        "#06_seconds_in_year.md\n",
        "\n",
        "def main():\n",
        "    print(\"This program shows the seconds in a year\")\n",
        "    days_in_year = 365\n",
        "    hours_in_day = 24\n",
        "    minutes_in_hour = 60\n",
        "    seconds_in_minute = 60\n",
        "    seconds_in_year = days_in_year * hours_in_day * minutes_in_hour * seconds_in_minute\n",
        "    print(f\"There are {seconds_in_year} seconds in a year\")\n",
        "\n",
        "\n",
        "# This provided line is required at the end of\n",
        "# Python file to call the main() function.\n",
        "if __name__ == '__main__':\n",
        "    main()"
      ]
    },
    {
      "cell_type": "code",
      "execution_count": null,
      "metadata": {
        "colab": {
          "base_uri": "https://localhost:8080/"
        },
        "id": "Hbp0S6v8GDP1",
        "outputId": "641cd86b-fff3-482f-b092-eaf689bbdcf0"
      },
      "outputs": [
        {
          "name": "stdout",
          "output_type": "stream",
          "text": [
            "This is a tiny mad lib game\n",
            "Enter a noun: plant\n",
            "Enter a verb: fly\n",
            "Enter an adjective: tiny\n",
            "Code in Place is fun. I learned to program and used Python to make my tiny plant fly!\n"
          ]
        }
      ],
      "source": [
        "#07_tiny_mad_lib.md\n",
        "def main():\n",
        "    print(\"This is a tiny mad lib game\")\n",
        "    noun = input(\"Enter a noun: \")\n",
        "    verb = input(\"Enter a verb: \")\n",
        "    adjective = input(\"Enter an adjective: \")\n",
        "    print(f\"Code in Place is fun. I learned to program and used Python to make my {adjective} {noun} {verb}!\")\n",
        "\n",
        "\n",
        "# This provided line is required at the end of\n",
        "# Python file to call the main() function.\n",
        "if __name__ == '__main__':\n",
        "    main()"
      ]
    },
    {
      "cell_type": "markdown",
      "metadata": {
        "id": "SwfKNoaiHknC"
      },
      "source": [
        "# 02_list"
      ]
    },
    {
      "cell_type": "code",
      "execution_count": null,
      "metadata": {
        "colab": {
          "base_uri": "https://localhost:8080/"
        },
        "id": "GtPhQgi7HrgI",
        "outputId": "842f9b22-00b1-4dc1-c9ac-2394f5caaef7"
      },
      "outputs": [
        {
          "name": "stdout",
          "output_type": "stream",
          "text": [
            "Enter a number (or '0' to finish): 1\n",
            "Enter a number (or '0' to finish): 2\n",
            "Enter a number (or '0' to finish): 3\n",
            "Enter a number (or '0' to finish): 4\n",
            "Enter a number (or '0' to finish): 5\n",
            "Enter a number (or '0' to finish): 0\n",
            "\n",
            "The sum of the numbers is 15\n"
          ]
        }
      ],
      "source": [
        "#01_add_many_number.md\n",
        "\n",
        "def add_multiple_numbers(numbers):\n",
        "  total = 0\n",
        "  for number in numbers:\n",
        "    total += number\n",
        "  return total\n",
        "\n",
        "def main():\n",
        "  numbers = []\n",
        "  while True:\n",
        "    number = int(input(\"Enter a number (or '0' to finish): \"))\n",
        "    numbers.append(number)\n",
        "    if number == 0:\n",
        "      break\n",
        "  add_multiple_numbers(numbers)\n",
        "  print(f\"\\nThe sum of the numbers is {add_multiple_numbers(numbers)}\")\n",
        "\n",
        "if __name__ == '__main__':\n",
        "    main()"
      ]
    },
    {
      "cell_type": "code",
      "execution_count": null,
      "metadata": {
        "colab": {
          "base_uri": "https://localhost:8080/"
        },
        "id": "TXYhnmZgKVIT",
        "outputId": "e961b40d-e2c8-486e-efe5-cccbe49249a7"
      },
      "outputs": [
        {
          "name": "stdout",
          "output_type": "stream",
          "text": [
            "Enter a number (or 'done' to finish): 1\n",
            "Enter a number (or 'done' to finish): 2\n",
            "Enter a number (or 'done' to finish): 3\n",
            "Enter a number (or 'done' to finish): done\n",
            "\n",
            "The doubled numbers are [2, 4, 6]\n"
          ]
        }
      ],
      "source": [
        "#02_double_list.md\n",
        "def double_list(numbers):\n",
        "  doubled_numbers = []\n",
        "  for number in numbers:\n",
        "    doubled_numbers.append(number * 2)\n",
        "  return doubled_numbers\n",
        "\n",
        "def main():\n",
        "  numbers = []\n",
        "  while True:\n",
        "    number = input(\"Enter a number (or 'done' to finish): \")\n",
        "    if number.isdigit():\n",
        "      numbers.append(int(number))\n",
        "    if number.lower() == 'done':\n",
        "      break\n",
        "  doubled_list = double_list(numbers)\n",
        "  print(f\"\\nThe doubled numbers are {doubled_list}\")\n",
        "\n",
        "if __name__ == '__main__':\n",
        "    main()"
      ]
    },
    {
      "cell_type": "code",
      "execution_count": null,
      "metadata": {
        "colab": {
          "base_uri": "https://localhost:8080/"
        },
        "id": "TT_-cK6_FY0X",
        "outputId": "88a6e7ed-354d-4109-a229-f806380951e2"
      },
      "outputs": [
        {
          "name": "stdout",
          "output_type": "stream",
          "text": [
            "Enter an item: hello\n",
            "Before Append:  []\n",
            "After Append:  ['hello', 'hello', 'hello']\n"
          ]
        }
      ],
      "source": [
        "#04_flowing_with_data_structures.md\n",
        "def add_three_copies(item,my_list):\n",
        "  for i in range(3):\n",
        "    my_list.append(item)\n",
        "def main():\n",
        "  my_list = []\n",
        "  item = input(\"Enter an item: \")\n",
        "  print(\"Before Append: \", my_list)\n",
        "  add_three_copies(item,my_list)\n",
        "  print(\"After Append: \", my_list)\n",
        "\n",
        "if __name__ == '__main__':\n",
        "    main()"
      ]
    },
    {
      "cell_type": "code",
      "execution_count": null,
      "metadata": {
        "colab": {
          "base_uri": "https://localhost:8080/"
        },
        "id": "CkX5YTvsHOI5",
        "outputId": "c5eecfa5-6df0-46b9-b6fd-8d83a3b1a933"
      },
      "outputs": [
        {
          "name": "stdout",
          "output_type": "stream",
          "text": [
            "Enter an item: apple\n",
            "Enter an item: orange\n",
            "Enter an item: mango\n",
            "Enter an item: banana\n",
            "Enter an item: \n",
            "The first element is apple\n"
          ]
        }
      ],
      "source": [
        "#05_get_first_element.md\n",
        "\n",
        "def get_first_element(my_list):\n",
        "  if len(my_list) > 0:\n",
        "    print(f\"The first element is {my_list[0]}\")\n",
        "  else:\n",
        "    print(\"The list is empty\")\n",
        "\n",
        "def main():\n",
        "    my_list = []\n",
        "    while True:\n",
        "        item = input(\"Enter an item: \")\n",
        "        if item == \"\":\n",
        "          break\n",
        "        my_list.append(item)\n",
        "    get_first_element(my_list)\n",
        "# This provided line is required at the end of\n",
        "# Python file to call the main() function.\n",
        "if __name__ == '__main__':\n",
        "    main()"
      ]
    },
    {
      "cell_type": "code",
      "execution_count": null,
      "metadata": {
        "colab": {
          "base_uri": "https://localhost:8080/"
        },
        "id": "FZQNyV4LI0hD",
        "outputId": "6a32d4c0-677c-434e-8d2d-ba5d76f11f80"
      },
      "outputs": [
        {
          "name": "stdout",
          "output_type": "stream",
          "text": [
            "Enter an item: apple\n",
            "Enter an item: mango\n",
            "Enter an item: banana\n",
            "Enter an item: orange\n",
            "Enter an item: \n",
            "The last element is orange\n"
          ]
        }
      ],
      "source": [
        "#06_get_last_element.md\n",
        "\n",
        "def get_last_element(my_list):\n",
        "  if len(my_list) > 0:\n",
        "    print(f\"The last element is {my_list[-1]}\")\n",
        "  else:\n",
        "    print(\"The list is empty\")\n",
        "\n",
        "def main():\n",
        "    my_list = []\n",
        "    while True:\n",
        "        item = input(\"Enter an item: \")\n",
        "        if item == \"\":\n",
        "          break\n",
        "        my_list.append(item)\n",
        "    get_last_element(my_list)\n",
        "# This provided line is required at the end of\n",
        "# Python file to call the main() function.\n",
        "if __name__ == '__main__':\n",
        "    main()\n"
      ]
    },
    {
      "cell_type": "code",
      "execution_count": null,
      "metadata": {
        "colab": {
          "base_uri": "https://localhost:8080/"
        },
        "id": "tHNBtyeAJZYi",
        "outputId": "daed01a1-37c4-4bb4-a6df-9c28389c4e53"
      },
      "outputs": [
        {
          "name": "stdout",
          "output_type": "stream",
          "text": [
            "Enter an item: apple\n",
            "Enter an item: mango\n",
            "Enter an item: orange\n",
            "Enter an item: done\n",
            "Here is the list ['apple', 'mango', 'orange']\n"
          ]
        }
      ],
      "source": [
        "#07_get_list.md\n",
        "\n",
        "def get_list():\n",
        "  my_list = []\n",
        "  while True:\n",
        "    item = input(\"Enter an item: \")\n",
        "    if item.isdigit():\n",
        "      my_list.append(int(item))\n",
        "    elif item.lower() == 'done':\n",
        "      break\n",
        "    else:\n",
        "      my_list.append(item)\n",
        "    if item == \"\":\n",
        "      break\n",
        "\n",
        "  return my_list\n",
        "\n",
        "def main():\n",
        "  my_list = get_list()\n",
        "  print(f\"Here is the list {my_list}\")\n",
        "\n",
        "if __name__ == '__main__':\n",
        "    main()"
      ]
    },
    {
      "cell_type": "code",
      "execution_count": null,
      "metadata": {
        "colab": {
          "base_uri": "https://localhost:8080/"
        },
        "id": "PpcmiRlhPjS5",
        "outputId": "7b181d38-b1e9-4cd0-850a-842119d5ec9f"
      },
      "outputs": [
        {
          "name": "stdout",
          "output_type": "stream",
          "text": [
            "Enter an item: apple\n",
            "Enter an item: mango\n",
            "Enter an item: orange\n",
            "Enter an item: bananna\n",
            "Enter an item: guava\n",
            "Enter an item: lemon\n",
            "Enter an item: \n",
            "The last element lemon has been removed\n",
            "The last element guava has been removed\n",
            "The last element bananna has been removed\n"
          ]
        }
      ],
      "source": [
        "#08_shorten.md\n",
        "max_length = 3\n",
        "\n",
        "def shorten(lst):\n",
        "  while len(lst) > max_length:\n",
        "    last_element = lst.pop()\n",
        "    print(f\"The last element {last_element} has been removed\")\n",
        "def main():\n",
        "  my_list = []\n",
        "  while True:\n",
        "    item = input(\"Enter an item: \")\n",
        "    if item == \"\":\n",
        "      break\n",
        "    my_list.append(item)\n",
        "  shorten(my_list)\n",
        "\n",
        "if __name__ == '__main__':\n",
        "    main()\n"
      ]
    },
    {
      "cell_type": "markdown",
      "metadata": {
        "id": "1nVjbX7igmQw"
      },
      "source": [
        "# 03-if_statement"
      ]
    },
    {
      "cell_type": "code",
      "execution_count": null,
      "metadata": {
        "colab": {
          "base_uri": "https://localhost:8080/"
        },
        "id": "xJq95v0ugvml",
        "outputId": "b9d229ab-d583-4d1c-f60a-fcf231887ef6"
      },
      "outputs": [
        {
          "name": "stdout",
          "output_type": "stream",
          "text": [
            "Enter First Even Number: 0\n",
            "0\n",
            "2\n",
            "4\n",
            "6\n",
            "8\n",
            "10\n",
            "12\n",
            "14\n",
            "16\n",
            "18\n"
          ]
        }
      ],
      "source": [
        "#01_print_events.md\n",
        "\n",
        "def main():\n",
        "  frst_num = int(input(\"Enter First Even Number: \"))\n",
        "  for i in range(frst_num, 20, 2):\n",
        "    print(i)\n",
        "\n",
        "if __name__ == '__main__':\n",
        "    main()"
      ]
    },
    {
      "cell_type": "code",
      "execution_count": null,
      "metadata": {
        "colab": {
          "base_uri": "https://localhost:8080/"
        },
        "id": "d7NKdKKAho8F",
        "outputId": "488dda2b-55d2-4a1b-ba13-3421a6500a27"
      },
      "outputs": [
        {
          "name": "stdout",
          "output_type": "stream",
          "text": [
            "Enter your age: 26\n",
            "You are eligible to vote in the Peturksbouipo where the age for voting is 16\n",
            "You are eligible to vote in the Stanlau  where the age for voting is 25\n",
            "You are not eligible to vote in Mayengua  where the age for voting is 48\n"
          ]
        }
      ],
      "source": [
        "#02_international_voting_age.md\n",
        "\n",
        "def main():\n",
        "  peturksbouipo: int = 16\n",
        "  stanlau: int = 25\n",
        "  mayengua:int = 48\n",
        "  age = int(input(\"Enter your age: \"))\n",
        "  if age >= peturksbouipo:\n",
        "    print(f\"You are eligible to vote in the Peturksbouipo where the age for voting is {peturksbouipo}\")\n",
        "  else:\n",
        "    print(f\"You are not eligible to vote in Peturksbouipo  where the age for voting is {peturksbouipo}\")\n",
        "  if age >= stanlau:\n",
        "    print(f\"You are eligible to vote in the Stanlau  where the age for voting is {stanlau}\")\n",
        "  else:\n",
        "    print(f\"You are not eligible to vote in Stanlau  where the age for voting is {stanlau}\")\n",
        "  if age >= mayengua:\n",
        "    print(f\"You are eligible to vote in the Mayengua  where the age for voting is {mayengua}\")\n",
        "  else:\n",
        "    print(f\"You are not eligible to vote in Mayengua  where the age for voting is {mayengua}\")\n",
        "\n",
        "if __name__ == '__main__':\n",
        "    main()\n"
      ]
    },
    {
      "cell_type": "code",
      "execution_count": null,
      "metadata": {
        "colab": {
          "base_uri": "https://localhost:8080/"
        },
        "id": "QvRE3IPOjpBe",
        "outputId": "c5673437-7add-47eb-9886-d9075d7fbe0a"
      },
      "outputs": [
        {
          "name": "stdout",
          "output_type": "stream",
          "text": [
            "Enter a year: 2025\n",
            "2025 is not a leap year\n"
          ]
        }
      ],
      "source": [
        "#03_leap_year.md\n",
        "def main():\n",
        "  year = int(input(\"Enter a year: \"))\n",
        "\n",
        "  if (year % 4 == 0 and year % 100 != 0 and year % 400 == 0):\n",
        "    print(f\"{year} is a leap year\")\n",
        "  else:\n",
        "    print(f\"{year} is not a leap year\")\n",
        "\n",
        "# This provided line is required at the end of\n",
        "# Python file to call the main() function.\n",
        "if __name__ == '__main__':\n",
        "    main()"
      ]
    },
    {
      "cell_type": "code",
      "execution_count": null,
      "metadata": {
        "colab": {
          "base_uri": "https://localhost:8080/"
        },
        "id": "UxnDeWRjkIDM",
        "outputId": "56902003-2df9-45d4-d3fc-06786ea2f34e"
      },
      "outputs": [
        {
          "name": "stdout",
          "output_type": "stream",
          "text": [
            "Enter your Height: 45\n",
            "You can ride.\n",
            "Enter your Height: 87\n",
            "You're tall enough to ride!\n",
            "Enter your Height: 8\n",
            "You're not tall enough to ride, but maybe next year!\n",
            "Enter your Height: 0\n",
            "Goodbye!\n"
          ]
        }
      ],
      "source": [
        "#04_tall_enough_to_ride.md\n",
        "\n",
        "def main():\n",
        "  while True:\n",
        "    height = float(input(\"Enter your Height: \"))\n",
        "\n",
        "    if height > 50:\n",
        "      print(\"You're tall enough to ride!\")\n",
        "    elif height < 10 and height > 0:\n",
        "      print(\"You're not tall enough to ride, but maybe next year!\")\n",
        "    elif height == 0:\n",
        "      print(\"Goodbye!\")\n",
        "      break\n",
        "    else:\n",
        "      print(\"You can ride.\")\n",
        "\n",
        "if __name__ == '__main__':\n",
        "    main()"
      ]
    },
    {
      "cell_type": "code",
      "execution_count": null,
      "metadata": {
        "colab": {
          "base_uri": "https://localhost:8080/"
        },
        "id": "ZlppPHQgmMg0",
        "outputId": "68123f9c-594f-4e0f-a525-34a13ccebd9d"
      },
      "outputs": [
        {
          "name": "stdout",
          "output_type": "stream",
          "text": [
            "69\n",
            "10\n",
            "26\n",
            "43\n",
            "27\n",
            "53\n",
            "28\n",
            "86\n",
            "85\n",
            "19\n"
          ]
        }
      ],
      "source": [
        "#05_random_numbers.md\n",
        "import random\n",
        "\n",
        "N_NUMBERS : int = 10\n",
        "MIN_VALUE : int = 1\n",
        "MAX_VALUE : int = 100\n",
        "\n",
        "def main():\n",
        "\n",
        "    for _ in range(N_NUMBERS):\n",
        "        random_number = random.randint(MIN_VALUE, MAX_VALUE)\n",
        "        print(random_number)\n",
        "\n",
        "if __name__ == '__main__':\n",
        "    main()"
      ]
    },
    {
      "cell_type": "markdown",
      "metadata": {
        "id": "k1zbQtegGZPo"
      },
      "source": [
        "# 04_dictionaries"
      ]
    },
    {
      "cell_type": "code",
      "execution_count": null,
      "metadata": {
        "colab": {
          "base_uri": "https://localhost:8080/"
        },
        "id": "pS2VGeWpGmNo",
        "outputId": "8d7c7b9c-eaa0-48be-b7a4-54513e2b021b"
      },
      "outputs": [
        {
          "name": "stdout",
          "output_type": "stream",
          "text": [
            "Enter a number: 1\n",
            "Enter a number: 2\n",
            "Enter a number: 3\n",
            "Enter a number: 3\n",
            "Enter a number: 2\n",
            "Enter a number: 3\n",
            "Enter a number: 4\n",
            "Enter a number: 2\n",
            "Enter a number: 4\n",
            "Enter a number: \n",
            "1 appears 1 times.\n",
            "2 appears 3 times.\n",
            "3 appears 3 times.\n",
            "4 appears 2 times.\n"
          ]
        }
      ],
      "source": [
        "#00_count_nums.md\n",
        "\n",
        "def main():\n",
        "    counts = {}\n",
        "    while True:\n",
        "        number = input(\"Enter a number: \")\n",
        "        if not number:  # Exit the loop if the user enters an empty string\n",
        "            break\n",
        "        try:\n",
        "            number = int(number)\n",
        "        except ValueError:\n",
        "            print(\"Invalid input. Please enter a number.\")\n",
        "            continue\n",
        "        if number in counts:\n",
        "            counts[number] += 1\n",
        "        else:\n",
        "            counts[number] = 1\n",
        "\n",
        "    for number, count in counts.items():\n",
        "        print(f\"{number} appears {count} times.\")\n",
        "\n",
        "\n",
        "if __name__ == '__main__':\n",
        "    main()"
      ]
    },
    {
      "cell_type": "code",
      "execution_count": null,
      "metadata": {
        "colab": {
          "base_uri": "https://localhost:8080/"
        },
        "id": "uGcAXKq0H56-",
        "outputId": "76fe3092-6856-4d98-ac31-62b3d060cf39"
      },
      "outputs": [
        {
          "name": "stdout",
          "output_type": "stream",
          "text": [
            "Enter a name: ali\n",
            "Enter a phone number: 03004567891\n",
            "Enter a name: \n",
            "Enter the name below to Show the number of that person\n",
            "Enter a name: ali\n",
            "ali's phone number is 03004567891.\n",
            "Enter the name below to Show the number of that person\n",
            "Enter a name: \n"
          ]
        }
      ],
      "source": [
        "#01_phonebook.md\n",
        "\n",
        "def main():\n",
        "    phonebook = {}\n",
        "    while True:\n",
        "        name = input(\"Enter a name: \")\n",
        "        if not name:\n",
        "            break\n",
        "        phone_number = input(\"Enter a phone number: \")\n",
        "        phonebook[name] = phone_number\n",
        "    while True:\n",
        "        print(\"Enter the name below to Show the number of that person or press enter to exit\")\n",
        "        name = input(\"Enter a name: \")\n",
        "        if not name:\n",
        "            break\n",
        "        if name in phonebook:\n",
        "            print(f\"{name}'s phone number is {phonebook[name]}.\")\n",
        "\n",
        "\n",
        "if __name__ == '__main__':\n",
        "    main()"
      ]
    },
    {
      "cell_type": "code",
      "execution_count": null,
      "metadata": {
        "colab": {
          "base_uri": "https://localhost:8080/"
        },
        "id": "3in1ObilI5_c",
        "outputId": "c44ba207-f703-4fe3-809a-852bbf4f9b13"
      },
      "outputs": [
        {
          "name": "stdout",
          "output_type": "stream",
          "text": [
            "Enter a fruit or press Enter to Exit: kiwi\n",
            "Enter the quantity: 10\n",
            "The cost of 10 kiwi is 10\n",
            "Enter a fruit or press Enter to Exit: \n",
            "The total cost of fruits is 10\n"
          ]
        }
      ],
      "source": [
        "#02_pop_up_shop.md\n",
        "def main():\n",
        "    pop_up_fruits = {'apple': 1.5, 'durian': 50, 'jackfruit': 80, 'kiwi': 1, 'rambutan': 1.5, 'mango': 5}\n",
        "\n",
        "    cost_of_fruit = 0\n",
        "    while True:\n",
        "        fruit = input(\"Enter a fruit or press Enter to Exit: \")\n",
        "        if not fruit:\n",
        "            break\n",
        "        if fruit not in pop_up_fruits:\n",
        "            print(\"Sorry, we don't have that fruit.\")\n",
        "            continue\n",
        "        price = pop_up_fruits[fruit]\n",
        "        quantity = int(input(\"Enter the quantity: \"))\n",
        "        cost_of_fruit += price * quantity\n",
        "        print(f\"The cost of {quantity} {fruit} is {price * quantity}\")\n",
        "\n",
        "    print(f\"The total cost of fruits is {cost_of_fruit}\")\n",
        "\n",
        "if __name__ == '__main__':\n",
        "    main()\n"
      ]
    },
    {
      "cell_type": "code",
      "execution_count": null,
      "metadata": {
        "colab": {
          "base_uri": "https://localhost:8080/"
        },
        "id": "vf3AhqXoJ_ha",
        "outputId": "35608d8b-9401-4ae4-e947-0ddae1d975cf"
      },
      "outputs": [
        {
          "name": "stdout",
          "output_type": "stream",
          "text": [
            "Enter your username: user3\n",
            "Enter your password: 123!456?789\n",
            "Login successful!\n"
          ]
        }
      ],
      "source": [
        "#03_powerful_passwords.md\n",
        "\n",
        "from hashlib import sha256\n",
        "\n",
        "def login(username, password, users):\n",
        "    hashed_password = sha256(password.encode()).hexdigest()\n",
        "    if users[username] == hashed_password:\n",
        "        return True\n",
        "    else:\n",
        "        return False\n",
        "\n",
        "\n",
        "\n",
        "def main():\n",
        "    users = {\n",
        "        \"user1\": \"5e884898da28047151d0e56f8dc6292773603d0d6aabbdd62a11ef721d1542d8\", #hasedpassword = password\n",
        "        \"user2\": \"973607a4ae7b4cf7d96a100b0fb07e8519cc4f70441d41214a9f811577bb06cc\", #hashedpassword = karel\n",
        "        \"user3\": \"882c6df720fd99f5eebb1581a1cf975625cea8a160283011c0b9512bb56c95fb\"  #hashedpassword = 123!456?789\n",
        "    }\n",
        "    username = input(\"Enter your username: \")\n",
        "    password = input(\"Enter your password: \")\n",
        "    if login(username, password, users):\n",
        "        print(\"Login successful!\")\n",
        "    else:\n",
        "        print(\"Login failed.\")\n",
        "\n",
        "if __name__ == '__main__':\n",
        "    main()"
      ]
    },
    {
      "cell_type": "markdown",
      "metadata": {
        "id": "rwhXu-fgNZI1"
      },
      "source": [
        "# 05_Loops_control_flow"
      ]
    },
    {
      "cell_type": "code",
      "execution_count": null,
      "metadata": {
        "colab": {
          "base_uri": "https://localhost:8080/"
        },
        "id": "7EVM8s1INer3",
        "outputId": "e0855aa6-652a-4ff1-e585-3babed67251b"
      },
      "outputs": [
        {
          "name": "stdout",
          "output_type": "stream",
          "text": [
            "I am thinking of a number between 0 and 99...\n",
            "Enter your guess: 10\n",
            "Your guess is Too low\n",
            "Enter your guess: 40\n",
            "your guess is Too high\n",
            "Enter your guess: 30\n",
            "your guess is Too high\n",
            "Enter your guess: 25\n",
            "your guess is Too high\n",
            "Enter your guess: 20\n",
            "your guess is Too high\n",
            "Enter your guess: 15\n",
            "your guess is Too high\n",
            "Enter your guess: 12\n",
            "Your guess is Too low\n",
            "Enter your guess: 13\n",
            "Your guess is Too low\n",
            "Enter your guess: 14\n",
            "Congrats, You got it!. The number is 14\n"
          ]
        }
      ],
      "source": [
        "#00_guess_my_number.md\n",
        "import random\n",
        "def main():\n",
        "  my_guess = random.randint(0, 99)\n",
        "  print(\"I am thinking of a number between 0 and 99...\")\n",
        "  while True:\n",
        "    guess = int(input(\"Enter your guess: \"))\n",
        "    if guess == my_guess:\n",
        "      print(f\"Congrats, You got it!. The number is {my_guess}\")\n",
        "      break\n",
        "    elif guess < my_guess:\n",
        "      print(\"Your guess is Too low\")\n",
        "    else:\n",
        "      print(\"your guess is Too high\")\n",
        "if __name__ == '__main__':\n",
        "    main()"
      ]
    },
    {
      "cell_type": "code",
      "execution_count": null,
      "metadata": {
        "colab": {
          "base_uri": "https://localhost:8080/"
        },
        "id": "Em5e2CfiVUde",
        "outputId": "0765d2e7-4332-419e-bd79-33527db69206"
      },
      "outputs": [
        {
          "name": "stdout",
          "output_type": "stream",
          "text": [
            "Enter a number: 25\n",
            "0\n",
            "1\n",
            "1\n",
            "2\n",
            "3\n",
            "5\n",
            "8\n",
            "13\n",
            "21\n"
          ]
        }
      ],
      "source": [
        "#01_fibonacci.md\n",
        "\n",
        "\n",
        "def main():\n",
        "  n = int(input(\"Enter a number: \"))\n",
        "  curr_term = 0\n",
        "  next_term = 1\n",
        "  while curr_term <= n:\n",
        "    term_after_next = curr_term + next_term\n",
        "    print(curr_term)\n",
        "    curr_term = next_term\n",
        "    next_term = term_after_next\n",
        "\n",
        "if __name__ == '__main__':\n",
        "    main()"
      ]
    },
    {
      "cell_type": "code",
      "execution_count": null,
      "metadata": {
        "colab": {
          "base_uri": "https://localhost:8080/"
        },
        "id": "EKtSOC0-WKn3",
        "outputId": "edfcd697-f46e-4752-f5f2-0e715acc0d30"
      },
      "outputs": [
        {
          "name": "stdout",
          "output_type": "stream",
          "text": [
            "0\n",
            "2\n",
            "4\n",
            "6\n",
            "8\n",
            "10\n",
            "12\n",
            "14\n",
            "16\n",
            "18\n",
            "20\n",
            "22\n",
            "24\n",
            "26\n",
            "28\n",
            "30\n",
            "32\n",
            "34\n",
            "36\n",
            "38\n"
          ]
        }
      ],
      "source": [
        "#02_print_events.md\n",
        "\n",
        "def main():\n",
        "  for i in range(20):\n",
        "    print(i*2)\n",
        "\n",
        "if __name__ == '__main__':\n",
        "    main()"
      ]
    },
    {
      "cell_type": "code",
      "execution_count": null,
      "metadata": {
        "colab": {
          "base_uri": "https://localhost:8080/"
        },
        "id": "zOf7RFc8W5Ja",
        "outputId": "273b1a20-2b14-4c68-cdf4-fb6f0d96f7a1"
      },
      "outputs": [
        {
          "name": "stdout",
          "output_type": "stream",
          "text": [
            "Type the following Affirmation, I am capable of doing anything I put my mind to.\n",
            "Enter the above affirmation: I am \n",
            "Hmmm That was not the affirmation\n",
            "Enter the above affirmation: I am capable of doing anything I put my mind to.\n",
            "You typed Exactly Same.\n"
          ]
        }
      ],
      "source": [
        "#03_wholesome_machine.md\n",
        "\n",
        "def main():\n",
        "  affirmation = \"I am capable of doing anything I put my mind to.\"\n",
        "\n",
        "  print(f\"Type the following Affirmation, {affirmation}\")\n",
        "\n",
        "\n",
        "  while True:\n",
        "    userTyped = input(\"Enter the above affirmation: \")\n",
        "    if userTyped == affirmation:\n",
        "      print(\"You typed Exactly Same.\")\n",
        "      break\n",
        "    print(\"Hmmm That was not the affirmation\")\n",
        "\n",
        "if __name__ == \"__main__\":\n",
        "    main()"
      ]
    },
    {
      "cell_type": "code",
      "execution_count": null,
      "metadata": {
        "colab": {
          "base_uri": "https://localhost:8080/"
        },
        "id": "zWoH06ewY3Mc",
        "outputId": "7b4c2040-0cbf-4567-c316-d4918b8b1511"
      },
      "outputs": [
        {
          "name": "stdout",
          "output_type": "stream",
          "text": [
            "10\n",
            "9\n",
            "8\n",
            "7\n",
            "6\n",
            "5\n",
            "4\n",
            "3\n",
            "2\n",
            "1\n",
            "Liftoff!\n"
          ]
        }
      ],
      "source": [
        "#04_liftoff.md\n",
        "\n",
        "def main():\n",
        "  for i in range(10, 0, -1):\n",
        "    print(i)\n",
        "  print(\"Liftoff!\")\n",
        "\n",
        "\n",
        "\n",
        "if __name__ == '__main__':\n",
        "    main()"
      ]
    },
    {
      "cell_type": "code",
      "execution_count": null,
      "metadata": {
        "colab": {
          "base_uri": "https://localhost:8080/"
        },
        "id": "R50E6HgIZXDQ",
        "outputId": "018233c5-6f08-4a13-b972-2c1a1aafd69e"
      },
      "outputs": [
        {
          "name": "stdout",
          "output_type": "stream",
          "text": [
            "Enter a number: 2\n",
            "4\n",
            "8\n",
            "16\n",
            "32\n",
            "64\n",
            "128\n"
          ]
        }
      ],
      "source": [
        "#05_double_it.md\n",
        "\n",
        "def main():\n",
        "  number = int(input(\"Enter a number: \"))\n",
        "  while number < 100:\n",
        "    number *= 2\n",
        "    print(number)\n",
        "\n",
        "if __name__ == \"__main__\":\n",
        "  main()"
      ]
    },
    {
      "cell_type": "markdown",
      "metadata": {
        "id": "AbEdg_5RZzwH"
      },
      "source": [
        "# 06_Functions"
      ]
    },
    {
      "cell_type": "code",
      "execution_count": null,
      "metadata": {
        "colab": {
          "base_uri": "https://localhost:8080/"
        },
        "id": "aeeGS4MAaMxL",
        "outputId": "0883bba8-8c6c-4010-f599-9efeab1a5194"
      },
      "outputs": [
        {
          "name": "stdout",
          "output_type": "stream",
          "text": [
            "Enter the first number: 10\n",
            "Enter the second number: 20\n",
            "the Average of 10 and 20 is equal to 15.0\n"
          ]
        }
      ],
      "source": [
        "#00_averages.md\n",
        "\n",
        "def main():\n",
        "  num1 = int(input(\"Enter the first number: \"))\n",
        "  num2 = int(input(\"Enter the second number: \"))\n",
        "\n",
        "  print(f\"the Average of {num1} and {num2} is equal to {(num1 + num2)/2}\")\n",
        "\n",
        "\n",
        "if __name__ == '__main__':\n",
        "    main()"
      ]
    },
    {
      "cell_type": "code",
      "execution_count": null,
      "metadata": {
        "colab": {
          "base_uri": "https://localhost:8080/"
        },
        "id": "dtoCN_ZEWrIE",
        "outputId": "d81750fb-c15a-4ee0-cf99-d58134a51c1e"
      },
      "outputs": [
        {
          "name": "stdout",
          "output_type": "stream",
          "text": [
            "I'm going to count until 10 or until I feel like stopping, whichever comes first.\n",
            "0123456\n",
            "I'm done.\n"
          ]
        }
      ],
      "source": [
        "#01_chaotic_counting.md\n",
        "import random\n",
        "DONE_LIKLIHOOD = 0.1\n",
        "def chaotic_counting():\n",
        "  for i in range(10):\n",
        "    if done():\n",
        "      return\n",
        "    print(i, end=\"\")\n",
        "\n",
        "def done():\n",
        "  return random.random() < DONE_LIKLIHOOD\n",
        "\n",
        "def main():\n",
        "  print(\"I'm going to count until 10 or until I feel like stopping, whichever comes first.\")\n",
        "  chaotic_counting()\n",
        "  print(\"\\nI'm done.\")\n",
        "\n",
        "if __name__ == '__main__':\n",
        "  main()"
      ]
    },
    {
      "cell_type": "code",
      "execution_count": null,
      "metadata": {
        "colab": {
          "base_uri": "https://localhost:8080/"
        },
        "id": "vO9lQ8orYh8H",
        "outputId": "fd63c740-17ac-40b0-cf8e-40b5e3df250a"
      },
      "outputs": [
        {
          "name": "stdout",
          "output_type": "stream",
          "text": [
            "Enter a number or press enter to exit: 1\n",
            "Enter a number or press enter to exit: 2\n",
            "Enter a number or press enter to exit: 3\n",
            "Enter a number or press enter to exit: 4\n",
            "Enter a number or press enter to exit: \n",
            "There are 2 even numbers in the list\n"
          ]
        }
      ],
      "source": [
        "#02_count_even.md\n",
        "\n",
        "def count_even():\n",
        "  lst = []\n",
        "  even_num = 0\n",
        "  while True:\n",
        "    number = input(\"Enter a number or press enter to exit: \")\n",
        "    if number == \"\":\n",
        "      break\n",
        "    lst.append(int(number))\n",
        "  for i in lst:\n",
        "     if i % 2 == 0:\n",
        "       even_num += 1\n",
        "  print(f\"There are {even_num} even numbers in the list\")\n",
        "\n",
        "def main():\n",
        "  count_even()\n",
        "\n",
        "if __name__ == '__main__':\n",
        "  main()\n",
        "\n"
      ]
    },
    {
      "cell_type": "code",
      "execution_count": null,
      "metadata": {
        "colab": {
          "base_uri": "https://localhost:8080/"
        },
        "id": "7oR1sTzkdZla",
        "outputId": "40c18341-bcaa-4e00-8cf4-7b1e0105b8b3"
      },
      "outputs": [
        {
          "name": "stdout",
          "output_type": "stream",
          "text": [
            "enter a number to double it 9\n",
            "Double that is 18\n"
          ]
        }
      ],
      "source": [
        "#04_double.md\n",
        "\n",
        "def main():\n",
        "  user_number = int(input(\"enter a number to double it \"))\n",
        "  doubled_number = user_number * 2\n",
        "  print(f\"Double that is {doubled_number}\")\n",
        "\n",
        "if __name__ == \"__main__\":\n",
        "  main()"
      ]
    },
    {
      "cell_type": "code",
      "execution_count": null,
      "metadata": {
        "colab": {
          "base_uri": "https://localhost:8080/"
        },
        "id": "23yicOAaeEYm",
        "outputId": "9d670215-8cee-44a2-a51e-ab6b657a5c91"
      },
      "outputs": [
        {
          "name": "stdout",
          "output_type": "stream",
          "text": [
            "Hello, Gulshan\n"
          ]
        }
      ],
      "source": [
        "#05_get_name.md\n",
        "\n",
        "def get_name():\n",
        "  return \"Gulshan\"\n",
        "\n",
        "def main():\n",
        "  print(f\"Hello, {get_name()}\")\n",
        "\n",
        "if __name__ == \"__main__\":\n",
        "  main()\n",
        "\n"
      ]
    },
    {
      "cell_type": "code",
      "execution_count": 2,
      "metadata": {
        "colab": {
          "base_uri": "https://localhost:8080/"
        },
        "id": "m0cfZ2DBwXEj",
        "outputId": "ca8b6a95-5d92-4ee3-9ea5-c9f53121d377"
      },
      "outputs": [
        {
          "name": "stdout",
          "output_type": "stream",
          "text": [
            "0 is even\n",
            "1 is odd\n",
            "2 is even\n",
            "3 is odd\n",
            "4 is even\n",
            "5 is odd\n",
            "6 is even\n",
            "7 is odd\n",
            "8 is even\n",
            "9 is odd\n"
          ]
        }
      ],
      "source": [
        "#06_is_odd.md\n",
        "\n",
        "def main():\n",
        "  for i in range(10):\n",
        "    if i % 2 != 0:\n",
        "      print(f\"{i} is odd\")\n",
        "    else:\n",
        "      print(f\"{i} is even\")\n",
        "\n",
        "if __name__ == \"__main__\":\n",
        "  main()"
      ]
    },
    {
      "cell_type": "code",
      "execution_count": 11,
      "metadata": {
        "colab": {
          "base_uri": "https://localhost:8080/"
        },
        "id": "SUTXNWqKxGl0",
        "outputId": "408a97c9-c72c-4a0e-d632-fbca787b6fc6"
      },
      "outputs": [
        {
          "name": "stdout",
          "output_type": "stream",
          "text": [
            "Enter a number whose divisors you want to find: 10\n",
            "The divisors of 10 are 1, 2, 5, 10\n"
          ]
        }
      ],
      "source": [
        "#07_print_divisor.md\n",
        "\n",
        "def main():\n",
        "  num = int(input(\"Enter a number whose divisors you want to find: \"))\n",
        "  divisors = []\n",
        "  for i in range(num):\n",
        "    curr_divisor = i + 1\n",
        "    if num % curr_divisor == 0:\n",
        "      divisors.append(curr_divisor)\n",
        "  print(f\"The divisors of {num} are {', '.join(str(e) for e in divisors)}\")\n",
        "\n",
        "\n",
        "\n",
        "if __name__ == \"__main__\":\n",
        "  main()"
      ]
    },
    {
      "cell_type": "code",
      "execution_count": 13,
      "metadata": {
        "colab": {
          "base_uri": "https://localhost:8080/"
        },
        "id": "8xMr9G9CztsP",
        "outputId": "64b007ae-b491-411e-d831-a0edf2a7f2f9"
      },
      "outputs": [
        {
          "name": "stdout",
          "output_type": "stream",
          "text": [
            "Enter a message: Always do good\n",
            "Enter a number: 3\n",
            "Always do good\n",
            "Always do good\n",
            "Always do good\n"
          ]
        }
      ],
      "source": [
        "#08_print_multiple.md\n",
        "\n",
        "def main():\n",
        "  message = input(\"Enter a message: \")\n",
        "  num = int(input(\"Enter a number: \"))\n",
        "  for i in range(num):\n",
        "    print(message)\n",
        "\n",
        "if __name__ == \"__main__\":\n",
        "  main()"
      ]
    },
    {
      "cell_type": "code",
      "execution_count": 15,
      "metadata": {
        "colab": {
          "base_uri": "https://localhost:8080/"
        },
        "id": "lbeB3gbQ0jD-",
        "outputId": "27f6798c-a38f-4d35-89d0-48d7b153ecd5"
      },
      "outputs": [
        {
          "name": "stdout",
          "output_type": "stream",
          "text": [
            "Please type a noun, verb, or adjective: Python\n",
            "Is this a noun, verb, or adjective?\n",
            "Type 0 for noun, 1 for verb, 2 for adjective: 0\n",
            "I am excited to add this Python to my vast collection of them!\n"
          ]
        }
      ],
      "source": [
        "#09_sentence_generator.md\n",
        "\n",
        "def make_sentence(word, part_of_speech):\n",
        "    if part_of_speech == 0:\n",
        "\n",
        "        print(\"I am excited to add this \" + word + \" to my vast collection of them!\")\n",
        "    elif part_of_speech == 1:\n",
        "\n",
        "        print(\"It's so nice outside today it makes me want to \" + word + \"!\")\n",
        "    elif part_of_speech == 2:\n",
        "\n",
        "        print(\"Looking out my window, the sky is big and \" + word + \"!\")\n",
        "    else:\n",
        "\n",
        "        print(\"Part of speech must be 0, 1, or 2! Can't make a sentence.\")\n",
        "\n",
        "def main():\n",
        "    word :  str = input(\"Please type a noun, verb, or adjective: \")\n",
        "    print(\"Is this a noun, verb, or adjective?\")\n",
        "    part_of_speech = int(input(\"Type 0 for noun, 1 for verb, 2 for adjective: \"))\n",
        "    make_sentence(word, part_of_speech)\n",
        "\n",
        "if __name__ == '__main__':\n",
        "    main()\n",
        "\n"
      ]
    },
    {
      "cell_type": "code",
      "execution_count": 16,
      "metadata": {
        "colab": {
          "base_uri": "https://localhost:8080/"
        },
        "id": "UyXmAURB1zet",
        "outputId": "44d8b170-0081-4c1e-fffc-fd3806744be3"
      },
      "outputs": [
        {
          "name": "stdout",
          "output_type": "stream",
          "text": [
            "Enter a number: 42\n",
            "The ones digit of 42 is 2\n"
          ]
        }
      ],
      "source": [
        "#10_print_ones_digit.md\n",
        "\n",
        "def main():\n",
        "  number = int(input(\"Enter a number: \"))\n",
        "  ones_digit = number % 10\n",
        "  print(f\"The ones digit of {number} is {ones_digit}\")\n",
        "\n",
        "if __name__ == '__main__':\n",
        "    main()"
      ]
    },
    {
      "cell_type": "markdown",
      "metadata": {
        "id": "1FpvoNzm2CY_"
      },
      "source": [
        "# 07 Information Flow"
      ]
    },
    {
      "cell_type": "code",
      "execution_count": 23,
      "metadata": {
        "colab": {
          "base_uri": "https://localhost:8080/"
        },
        "id": "Po6CvYcM2KiH",
        "outputId": "5c8cf1c9-55bc-4c90-f9dc-fd4596794fd7"
      },
      "outputs": [
        {
          "name": "stdout",
          "output_type": "stream",
          "text": [
            "How Old are you? 17\n",
            "False\n"
          ]
        }
      ],
      "source": [
        "#00_choosing_returns.md\n",
        "\n",
        "def is_Adult(age):\n",
        "  if age >= 18:\n",
        "    return True\n",
        "  else:\n",
        "    return False\n",
        "\n",
        "def main():\n",
        "  age = int(input(\"How Old are you? \"))\n",
        "  isAdult = is_Adult(age)\n",
        "  print(isAdult)\n",
        "\n",
        "if __name__ == '__main__':\n",
        "    main()"
      ]
    },
    {
      "cell_type": "code",
      "execution_count": 24,
      "metadata": {
        "colab": {
          "base_uri": "https://localhost:8080/"
        },
        "id": "f0YOiEpp3jXk",
        "outputId": "dc5a0d1e-dd1f-4ff6-9761-c4ff5c4e19ae"
      },
      "outputs": [
        {
          "name": "stdout",
          "output_type": "stream",
          "text": [
            "What's your name? Gulshan\n",
            "Greetings Gulshan!\n"
          ]
        }
      ],
      "source": [
        "#01_greetings.md\n",
        "\n",
        "def greet(name):\n",
        "    return \"Greetings \" + name + \"!\"\n",
        "\n",
        "def main():\n",
        "    name : str = input(\"What's your name? \")\n",
        "    print(greet(name))\n",
        "\n",
        "\n",
        "if __name__ == '__main__':\n",
        "    main()\n"
      ]
    },
    {
      "cell_type": "code",
      "execution_count": 26,
      "metadata": {
        "colab": {
          "base_uri": "https://localhost:8080/"
        },
        "id": "On0uuFdD30k2",
        "outputId": "4555cbb2-0c4a-446e-87bf-81d71b16853e"
      },
      "outputs": [
        {
          "name": "stdout",
          "output_type": "stream",
          "text": [
            "Enter a number: 10\n",
            "Enter a lower bound: 2\n",
            "Enter a upper bound: 12\n",
            "True\n"
          ]
        }
      ],
      "source": [
        "#02_in_range.md\n",
        "\n",
        "def in_range(n,low,high):\n",
        "  if n >= low and n <= high:\n",
        "    return True\n",
        "  else:\n",
        "    return False\n",
        "\n",
        "def main():\n",
        "  n = int(input(\"Enter a number: \"))\n",
        "  low = int(input(\"Enter a lower bound: \"))\n",
        "  high = int(input(\"Enter a upper bound: \"))\n",
        "  print(in_range(n,low,high))\n",
        "\n",
        "\n",
        "if __name__ == '__main__':\n",
        "    main()"
      ]
    },
    {
      "cell_type": "code",
      "execution_count": 35,
      "metadata": {
        "colab": {
          "base_uri": "https://localhost:8080/"
        },
        "id": "eRHciCkr4LDj",
        "outputId": "6535e61e-ce2d-41a0-cfad-75a276d60d79"
      },
      "outputs": [
        {
          "name": "stdout",
          "output_type": "stream",
          "text": [
            "Enter a fruit: APPLE\n",
            "stock of APPLE is 1\n"
          ]
        }
      ],
      "source": [
        "#03_in_stock.md\n",
        "\n",
        "\n",
        "\n",
        "def main():\n",
        "  fruit = input(\"Enter a fruit: \")\n",
        "  stock = in_stock(fruit)\n",
        "  print(f\"stock of {fruit} is {stock}\" )\n",
        "\n",
        "\n",
        "def in_stock(fruit):\n",
        "  if fruit.lower() == \"apple\":\n",
        "    return 1\n",
        "  elif fruit.lower() == \"banana\":\n",
        "    return 10\n",
        "  elif fruit.lower() == \"orange\":\n",
        "    return 5\n",
        "  else:\n",
        "    return 0\n",
        "\n",
        "if __name__ == '__main__':\n",
        "    main()\n",
        "\n"
      ]
    },
    {
      "cell_type": "code",
      "execution_count": 37,
      "metadata": {
        "colab": {
          "base_uri": "https://localhost:8080/"
        },
        "id": "-knAiqzT6O--",
        "outputId": "7a99ed25-167b-47d2-b8f8-e1be7f9773d5"
      },
      "outputs": [
        {
          "name": "stdout",
          "output_type": "stream",
          "text": [
            "Enter your first name: Gulshan\n",
            "Enter your last name: Koondhar\n",
            "Enter your email: gulshan.koondhar@gmail.com\n",
            "You have entered This data ('Gulshan', 'Koondhar', 'gulshan.koondhar@gmail.com')\n"
          ]
        }
      ],
      "source": [
        "#04_multiple_returns.md\n",
        "\n",
        "def user_info():\n",
        "  first_name = input(\"Enter your first name: \")\n",
        "  last_name = input(\"Enter your last name: \")\n",
        "  email = input(\"Enter your email: \")\n",
        "\n",
        "  return first_name, last_name, email\n",
        "\n",
        "\n",
        "def main():\n",
        "  userInfo = user_info()\n",
        "  print(f\"You have entered This data {userInfo}\")\n",
        "\n",
        "\n",
        "if __name__ == \"__main__\":\n",
        "  main()"
      ]
    },
    {
      "cell_type": "code",
      "execution_count": 42,
      "metadata": {
        "colab": {
          "base_uri": "https://localhost:8080/"
        },
        "id": "FiTCULwE7Z6r",
        "outputId": "15349171-d1a6-402a-c423-8ad7e3b5b25f"
      },
      "outputs": [
        {
          "name": "stdout",
          "output_type": "stream",
          "text": [
            "Enter a number: 10\n",
            "3\n"
          ]
        }
      ],
      "source": [
        "#05_subtract_7.md\n",
        "def main():\n",
        "  num = int(input(\"Enter a number: \"))\n",
        "  print(subtract_seven(num))\n",
        "\n",
        "def  subtract_seven(number):\n",
        "  number = number - 7\n",
        "  return number\n",
        "\n",
        "\n",
        "if __name__ == \"__main__\":\n",
        "  main()"
      ]
    }
  ],
  "metadata": {
    "colab": {
      "provenance": []
    },
    "kernelspec": {
      "display_name": "Python 3",
      "name": "python3"
    },
    "language_info": {
      "name": "python"
    }
  },
  "nbformat": 4,
  "nbformat_minor": 0
}
