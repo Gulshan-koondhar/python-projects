{
  "nbformat": 4,
  "nbformat_minor": 0,
  "metadata": {
    "colab": {
      "provenance": [],
      "authorship_tag": "ABX9TyOMREYuBXUPGa/u1vKwpWWu",
      "include_colab_link": true
    },
    "kernelspec": {
      "name": "python3",
      "display_name": "Python 3"
    },
    "language_info": {
      "name": "python"
    }
  },
  "cells": [
    {
      "cell_type": "markdown",
      "metadata": {
        "id": "view-in-github",
        "colab_type": "text"
      },
      "source": [
        "<a href=\"https://colab.research.google.com/github/Gulshan-koondhar/python-projects/blob/main/number_guess_game_(user).ipynb\" target=\"_parent\"><img src=\"https://colab.research.google.com/assets/colab-badge.svg\" alt=\"Open In Colab\"/></a>"
      ]
    },
    {
      "cell_type": "code",
      "execution_count": 2,
      "metadata": {
        "colab": {
          "base_uri": "https://localhost:8080/"
        },
        "id": "CNeM_7CCQU8n",
        "outputId": "39f1a0df-845e-48d1-e5d7-96276435a981"
      },
      "outputs": [
        {
          "output_type": "stream",
          "name": "stdout",
          "text": [
            "Is 95 too high (h), too low (l), or correct (c)?? h\n",
            "Is 54 too high (h), too low (l), or correct (c)?? l\n",
            "Is 78 too high (h), too low (l), or correct (c)?? h\n",
            "Is 70 too high (h), too low (l), or correct (c)?? h\n",
            "Is 68 too high (h), too low (l), or correct (c)?? h\n",
            "Is 55 too high (h), too low (l), or correct (c)?? l\n",
            "Is 59 too high (h), too low (l), or correct (c)?? l\n",
            "Is 62 too high (h), too low (l), or correct (c)?? l\n",
            "Is 65 too high (h), too low (l), or correct (c)?? c\n",
            "Yay! The computer guessed your number, 65, correctly!\n"
          ]
        }
      ],
      "source": [
        "import random\n",
        "def user_guess():\n",
        "  low = 1\n",
        "  high = 100\n",
        "  computer_guess = \"\"\n",
        "  while computer_guess != \"c\":\n",
        "    guess = random.randint(low, high)\n",
        "    computer_guess = input(f\"Is {guess} too high (h), too low (l), or correct (c)?? \")\n",
        "    if computer_guess == \"h\":\n",
        "      high = guess - 1\n",
        "    elif computer_guess == \"l\":\n",
        "      low = guess + 1\n",
        "  print(f\"Yay! The computer guessed your number, {guess}, correctly!\")\n",
        "user_guess()"
      ]
    }
  ]
}